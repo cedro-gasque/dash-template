{
 "cells": [
  {
   "cell_type": "code",
   "execution_count": 2,
   "metadata": {},
   "outputs": [],
   "source": [
    "import pandas as pd\n",
    "pd.set_option('display.max_columns', 999)\n",
    "PATH = \"../../DS-Unit-2-Applied-Modeling/data/dota/\""
   ]
  },
  {
   "cell_type": "code",
   "execution_count": 66,
   "metadata": {
    "scrolled": true
   },
   "outputs": [
    {
     "data": {
      "text/plain": [
       "1911704"
      ]
     },
     "metadata": {},
     "output_type": "display_data"
    },
    {
     "name": "stdout",
     "output_type": "stream",
     "text": [
      "Wall time: 3min 28s\n"
     ]
    }
   ],
   "source": [
    "%%time\n",
    "matches_small_chunk = pd.read_csv(PATH + 'matches_small.csv', chunksize=10000)\n",
    "i = 0\n",
    "\n",
    "for chunk in matches_small_chunk:\n",
    "    if i == 0:\n",
    "        df = chunk[chunk.human_players == 10]\n",
    "        df.to_csv(path_or_buf=PATH + \"full_players_games.csv\", mode='w', index=False)\n",
    "        i += df.shape[0]\n",
    "        continue\n",
    "    df = chunk[chunk.human_players == 10]\n",
    "    df.to_csv(path_or_buf=PATH + \"full_players_games.csv\", mode='a', header=False, index=False)\n",
    "    i += df.shape[0]\n",
    "display(i)"
   ]
  },
  {
   "cell_type": "code",
   "execution_count": 3,
   "metadata": {},
   "outputs": [
    {
     "name": "stdout",
     "output_type": "stream",
     "text": [
      "Wall time: 16.5 s\n"
     ]
    }
   ],
   "source": [
    "%%time\n",
    "filename = PATH + \"full_players_games.csv\"\n",
    "df = pd.read_csv(filename, usecols=['match_id', 'radiant_win', 'duration', 'tower_status_radiant', 'tower_status_dire', 'barracks_status_radiant', 'barracks_status_dire', 'first_blood_time'])"
   ]
  },
  {
   "cell_type": "code",
   "execution_count": 4,
   "metadata": {},
   "outputs": [],
   "source": [
    "radiant_win = df['radiant_win'] == 't'\n",
    "df = df.assign(radiant_win=radiant_win)"
   ]
  },
  {
   "cell_type": "code",
   "execution_count": 5,
   "metadata": {},
   "outputs": [
    {
     "data": {
      "text/html": [
       "<div>\n",
       "<style scoped>\n",
       "    .dataframe tbody tr th:only-of-type {\n",
       "        vertical-align: middle;\n",
       "    }\n",
       "\n",
       "    .dataframe tbody tr th {\n",
       "        vertical-align: top;\n",
       "    }\n",
       "\n",
       "    .dataframe thead th {\n",
       "        text-align: right;\n",
       "    }\n",
       "</style>\n",
       "<table border=\"1\" class=\"dataframe\">\n",
       "  <thead>\n",
       "    <tr style=\"text-align: right;\">\n",
       "      <th></th>\n",
       "      <th>match_id</th>\n",
       "      <th>radiant_win</th>\n",
       "      <th>duration</th>\n",
       "      <th>tower_status_radiant</th>\n",
       "      <th>tower_status_dire</th>\n",
       "      <th>barracks_status_radiant</th>\n",
       "      <th>barracks_status_dire</th>\n",
       "      <th>first_blood_time</th>\n",
       "    </tr>\n",
       "  </thead>\n",
       "  <tbody>\n",
       "    <tr>\n",
       "      <td>0</td>\n",
       "      <td>2304340261</td>\n",
       "      <td>True</td>\n",
       "      <td>1701</td>\n",
       "      <td>1975</td>\n",
       "      <td>4</td>\n",
       "      <td>63</td>\n",
       "      <td>3</td>\n",
       "      <td>100</td>\n",
       "    </tr>\n",
       "    <tr>\n",
       "      <td>1</td>\n",
       "      <td>2304335744</td>\n",
       "      <td>True</td>\n",
       "      <td>2299</td>\n",
       "      <td>1983</td>\n",
       "      <td>0</td>\n",
       "      <td>63</td>\n",
       "      <td>0</td>\n",
       "      <td>127</td>\n",
       "    </tr>\n",
       "    <tr>\n",
       "      <td>2</td>\n",
       "      <td>2304324185</td>\n",
       "      <td>True</td>\n",
       "      <td>3291</td>\n",
       "      <td>1584</td>\n",
       "      <td>0</td>\n",
       "      <td>60</td>\n",
       "      <td>0</td>\n",
       "      <td>196</td>\n",
       "    </tr>\n",
       "    <tr>\n",
       "      <td>3</td>\n",
       "      <td>2304339409</td>\n",
       "      <td>False</td>\n",
       "      <td>2192</td>\n",
       "      <td>0</td>\n",
       "      <td>1982</td>\n",
       "      <td>0</td>\n",
       "      <td>63</td>\n",
       "      <td>44</td>\n",
       "    </tr>\n",
       "    <tr>\n",
       "      <td>4</td>\n",
       "      <td>2304329004</td>\n",
       "      <td>True</td>\n",
       "      <td>2989</td>\n",
       "      <td>4</td>\n",
       "      <td>0</td>\n",
       "      <td>3</td>\n",
       "      <td>48</td>\n",
       "      <td>104</td>\n",
       "    </tr>\n",
       "    <tr>\n",
       "      <td>...</td>\n",
       "      <td>...</td>\n",
       "      <td>...</td>\n",
       "      <td>...</td>\n",
       "      <td>...</td>\n",
       "      <td>...</td>\n",
       "      <td>...</td>\n",
       "      <td>...</td>\n",
       "      <td>...</td>\n",
       "    </tr>\n",
       "    <tr>\n",
       "      <td>1911699</td>\n",
       "      <td>2306490763</td>\n",
       "      <td>False</td>\n",
       "      <td>2517</td>\n",
       "      <td>6</td>\n",
       "      <td>1972</td>\n",
       "      <td>3</td>\n",
       "      <td>63</td>\n",
       "      <td>15</td>\n",
       "    </tr>\n",
       "    <tr>\n",
       "      <td>1911700</td>\n",
       "      <td>2306496027</td>\n",
       "      <td>False</td>\n",
       "      <td>2100</td>\n",
       "      <td>256</td>\n",
       "      <td>2046</td>\n",
       "      <td>48</td>\n",
       "      <td>63</td>\n",
       "      <td>0</td>\n",
       "    </tr>\n",
       "    <tr>\n",
       "      <td>1911701</td>\n",
       "      <td>2306500208</td>\n",
       "      <td>True</td>\n",
       "      <td>1728</td>\n",
       "      <td>2047</td>\n",
       "      <td>0</td>\n",
       "      <td>63</td>\n",
       "      <td>0</td>\n",
       "      <td>56</td>\n",
       "    </tr>\n",
       "    <tr>\n",
       "      <td>1911702</td>\n",
       "      <td>2306480548</td>\n",
       "      <td>True</td>\n",
       "      <td>3274</td>\n",
       "      <td>1844</td>\n",
       "      <td>0</td>\n",
       "      <td>63</td>\n",
       "      <td>0</td>\n",
       "      <td>51</td>\n",
       "    </tr>\n",
       "    <tr>\n",
       "      <td>1911703</td>\n",
       "      <td>2306492515</td>\n",
       "      <td>False</td>\n",
       "      <td>2126</td>\n",
       "      <td>256</td>\n",
       "      <td>2047</td>\n",
       "      <td>48</td>\n",
       "      <td>63</td>\n",
       "      <td>271</td>\n",
       "    </tr>\n",
       "  </tbody>\n",
       "</table>\n",
       "<p>1911704 rows × 8 columns</p>\n",
       "</div>"
      ],
      "text/plain": [
       "           match_id  radiant_win  duration  tower_status_radiant  \\\n",
       "0        2304340261         True      1701                  1975   \n",
       "1        2304335744         True      2299                  1983   \n",
       "2        2304324185         True      3291                  1584   \n",
       "3        2304339409        False      2192                     0   \n",
       "4        2304329004         True      2989                     4   \n",
       "...             ...          ...       ...                   ...   \n",
       "1911699  2306490763        False      2517                     6   \n",
       "1911700  2306496027        False      2100                   256   \n",
       "1911701  2306500208         True      1728                  2047   \n",
       "1911702  2306480548         True      3274                  1844   \n",
       "1911703  2306492515        False      2126                   256   \n",
       "\n",
       "         tower_status_dire  barracks_status_radiant  barracks_status_dire  \\\n",
       "0                        4                       63                     3   \n",
       "1                        0                       63                     0   \n",
       "2                        0                       60                     0   \n",
       "3                     1982                        0                    63   \n",
       "4                        0                        3                    48   \n",
       "...                    ...                      ...                   ...   \n",
       "1911699               1972                        3                    63   \n",
       "1911700               2046                       48                    63   \n",
       "1911701                  0                       63                     0   \n",
       "1911702                  0                       63                     0   \n",
       "1911703               2047                       48                    63   \n",
       "\n",
       "         first_blood_time  \n",
       "0                     100  \n",
       "1                     127  \n",
       "2                     196  \n",
       "3                      44  \n",
       "4                     104  \n",
       "...                   ...  \n",
       "1911699                15  \n",
       "1911700                 0  \n",
       "1911701                56  \n",
       "1911702                51  \n",
       "1911703               271  \n",
       "\n",
       "[1911704 rows x 8 columns]"
      ]
     },
     "execution_count": 5,
     "metadata": {},
     "output_type": "execute_result"
    }
   ],
   "source": [
    "df"
   ]
  },
  {
   "cell_type": "code",
   "execution_count": 10,
   "metadata": {},
   "outputs": [],
   "source": [
    "from sklearn.pipeline import make_pipeline\n",
    "from sklearn.preprocessing import StandardScaler\n",
    "from sklearn.impute import SimpleImputer\n",
    "from xgboost import XGBClassifier\n",
    "from sklearn.model_selection import train_test_split"
   ]
  },
  {
   "cell_type": "code",
   "execution_count": 7,
   "metadata": {},
   "outputs": [],
   "source": [
    "train, test = train_test_split(df, random_state=0)"
   ]
  },
  {
   "cell_type": "code",
   "execution_count": 8,
   "metadata": {},
   "outputs": [],
   "source": [
    "train, val = train_test_split(train, random_state=0)"
   ]
  },
  {
   "cell_type": "code",
   "execution_count": 21,
   "metadata": {},
   "outputs": [],
   "source": [
    "target = 'radiant_win'\n",
    "features = ['duration', 'tower_status_radiant',\n",
    "       'tower_status_dire', 'barracks_status_radiant', 'barracks_status_dire',\n",
    "       'first_blood_time']\n",
    "X_train = train[features]\n",
    "y_train = train[target]\n",
    "X_val = val[features]\n",
    "y_val = val[target]\n",
    "X_test = test[features]\n",
    "y_test = test[target]"
   ]
  },
  {
   "cell_type": "code",
   "execution_count": 22,
   "metadata": {},
   "outputs": [
    {
     "name": "stdout",
     "output_type": "stream",
     "text": [
      "[Pipeline] ..... (step 1 of 3) Processing simpleimputer, total=   0.2s\n",
      "[Pipeline] .... (step 2 of 3) Processing standardscaler, total=   0.3s\n",
      "[12:26:21] INFO: src/tree/updater_prune.cc:74: tree pruning end, 1 roots, 642 extra nodes, 4 pruned nodes, max_depth=10\n",
      "[12:26:21] INFO: src/tree/updater_prune.cc:74: tree pruning end, 1 roots, 642 extra nodes, 0 pruned nodes, max_depth=10\n",
      "[12:26:22] INFO: src/tree/updater_prune.cc:74: tree pruning end, 1 roots, 668 extra nodes, 2 pruned nodes, max_depth=10\n",
      "[12:26:23] INFO: src/tree/updater_prune.cc:74: tree pruning end, 1 roots, 658 extra nodes, 0 pruned nodes, max_depth=10\n",
      "[12:26:23] INFO: src/tree/updater_prune.cc:74: tree pruning end, 1 roots, 692 extra nodes, 0 pruned nodes, max_depth=10\n",
      "[12:26:24] INFO: src/tree/updater_prune.cc:74: tree pruning end, 1 roots, 658 extra nodes, 2 pruned nodes, max_depth=10\n",
      "[12:26:25] INFO: src/tree/updater_prune.cc:74: tree pruning end, 1 roots, 636 extra nodes, 2 pruned nodes, max_depth=10\n",
      "[12:26:26] INFO: src/tree/updater_prune.cc:74: tree pruning end, 1 roots, 662 extra nodes, 2 pruned nodes, max_depth=10\n",
      "[12:26:27] INFO: src/tree/updater_prune.cc:74: tree pruning end, 1 roots, 676 extra nodes, 0 pruned nodes, max_depth=10\n",
      "[12:26:27] INFO: src/tree/updater_prune.cc:74: tree pruning end, 1 roots, 628 extra nodes, 2 pruned nodes, max_depth=10\n",
      "[12:26:28] INFO: src/tree/updater_prune.cc:74: tree pruning end, 1 roots, 602 extra nodes, 4 pruned nodes, max_depth=10\n",
      "[12:26:29] INFO: src/tree/updater_prune.cc:74: tree pruning end, 1 roots, 584 extra nodes, 0 pruned nodes, max_depth=10\n",
      "[12:26:29] INFO: src/tree/updater_prune.cc:74: tree pruning end, 1 roots, 640 extra nodes, 2 pruned nodes, max_depth=10\n",
      "[12:26:30] INFO: src/tree/updater_prune.cc:74: tree pruning end, 1 roots, 526 extra nodes, 0 pruned nodes, max_depth=10\n",
      "[12:26:31] INFO: src/tree/updater_prune.cc:74: tree pruning end, 1 roots, 482 extra nodes, 0 pruned nodes, max_depth=10\n",
      "[12:26:31] INFO: src/tree/updater_prune.cc:74: tree pruning end, 1 roots, 520 extra nodes, 0 pruned nodes, max_depth=10\n",
      "[12:26:32] INFO: src/tree/updater_prune.cc:74: tree pruning end, 1 roots, 452 extra nodes, 2 pruned nodes, max_depth=10\n",
      "[12:26:33] INFO: src/tree/updater_prune.cc:74: tree pruning end, 1 roots, 562 extra nodes, 0 pruned nodes, max_depth=10\n",
      "[12:26:33] INFO: src/tree/updater_prune.cc:74: tree pruning end, 1 roots, 352 extra nodes, 0 pruned nodes, max_depth=10\n",
      "[12:26:34] INFO: src/tree/updater_prune.cc:74: tree pruning end, 1 roots, 358 extra nodes, 0 pruned nodes, max_depth=10\n",
      "[12:26:35] INFO: src/tree/updater_prune.cc:74: tree pruning end, 1 roots, 382 extra nodes, 4 pruned nodes, max_depth=10\n",
      "[12:26:35] INFO: src/tree/updater_prune.cc:74: tree pruning end, 1 roots, 394 extra nodes, 0 pruned nodes, max_depth=10\n",
      "[12:26:36] INFO: src/tree/updater_prune.cc:74: tree pruning end, 1 roots, 268 extra nodes, 0 pruned nodes, max_depth=10\n",
      "[12:26:37] INFO: src/tree/updater_prune.cc:74: tree pruning end, 1 roots, 342 extra nodes, 0 pruned nodes, max_depth=10\n",
      "[12:26:37] INFO: src/tree/updater_prune.cc:74: tree pruning end, 1 roots, 426 extra nodes, 0 pruned nodes, max_depth=10\n",
      "[12:26:38] INFO: src/tree/updater_prune.cc:74: tree pruning end, 1 roots, 242 extra nodes, 0 pruned nodes, max_depth=10\n",
      "[12:26:39] INFO: src/tree/updater_prune.cc:74: tree pruning end, 1 roots, 164 extra nodes, 0 pruned nodes, max_depth=10\n",
      "[12:26:39] INFO: src/tree/updater_prune.cc:74: tree pruning end, 1 roots, 388 extra nodes, 0 pruned nodes, max_depth=10\n",
      "[12:26:40] INFO: src/tree/updater_prune.cc:74: tree pruning end, 1 roots, 310 extra nodes, 4 pruned nodes, max_depth=10\n",
      "[12:26:41] INFO: src/tree/updater_prune.cc:74: tree pruning end, 1 roots, 254 extra nodes, 4 pruned nodes, max_depth=10\n",
      "[12:26:41] INFO: src/tree/updater_prune.cc:74: tree pruning end, 1 roots, 160 extra nodes, 0 pruned nodes, max_depth=10\n",
      "[12:26:42] INFO: src/tree/updater_prune.cc:74: tree pruning end, 1 roots, 266 extra nodes, 0 pruned nodes, max_depth=10\n",
      "[12:26:43] INFO: src/tree/updater_prune.cc:74: tree pruning end, 1 roots, 260 extra nodes, 2 pruned nodes, max_depth=10\n",
      "[12:26:43] INFO: src/tree/updater_prune.cc:74: tree pruning end, 1 roots, 302 extra nodes, 2 pruned nodes, max_depth=10\n",
      "[12:26:44] INFO: src/tree/updater_prune.cc:74: tree pruning end, 1 roots, 222 extra nodes, 0 pruned nodes, max_depth=10\n",
      "[12:26:45] INFO: src/tree/updater_prune.cc:74: tree pruning end, 1 roots, 350 extra nodes, 0 pruned nodes, max_depth=10\n",
      "[12:26:45] INFO: src/tree/updater_prune.cc:74: tree pruning end, 1 roots, 314 extra nodes, 2 pruned nodes, max_depth=10\n",
      "[12:26:46] INFO: src/tree/updater_prune.cc:74: tree pruning end, 1 roots, 434 extra nodes, 0 pruned nodes, max_depth=10\n",
      "[12:26:47] INFO: src/tree/updater_prune.cc:74: tree pruning end, 1 roots, 416 extra nodes, 2 pruned nodes, max_depth=10\n",
      "[12:26:48] INFO: src/tree/updater_prune.cc:74: tree pruning end, 1 roots, 248 extra nodes, 2 pruned nodes, max_depth=10\n",
      "[12:26:48] INFO: src/tree/updater_prune.cc:74: tree pruning end, 1 roots, 284 extra nodes, 0 pruned nodes, max_depth=10\n",
      "[12:26:49] INFO: src/tree/updater_prune.cc:74: tree pruning end, 1 roots, 416 extra nodes, 0 pruned nodes, max_depth=10\n",
      "[12:26:50] INFO: src/tree/updater_prune.cc:74: tree pruning end, 1 roots, 364 extra nodes, 2 pruned nodes, max_depth=10\n",
      "[12:26:50] INFO: src/tree/updater_prune.cc:74: tree pruning end, 1 roots, 572 extra nodes, 2 pruned nodes, max_depth=10\n",
      "[12:26:51] INFO: src/tree/updater_prune.cc:74: tree pruning end, 1 roots, 384 extra nodes, 2 pruned nodes, max_depth=10\n",
      "[12:26:52] INFO: src/tree/updater_prune.cc:74: tree pruning end, 1 roots, 288 extra nodes, 0 pruned nodes, max_depth=10\n",
      "[12:26:52] INFO: src/tree/updater_prune.cc:74: tree pruning end, 1 roots, 276 extra nodes, 0 pruned nodes, max_depth=10\n",
      "[12:26:53] INFO: src/tree/updater_prune.cc:74: tree pruning end, 1 roots, 486 extra nodes, 0 pruned nodes, max_depth=10\n",
      "[12:26:54] INFO: src/tree/updater_prune.cc:74: tree pruning end, 1 roots, 236 extra nodes, 0 pruned nodes, max_depth=10\n",
      "[12:26:54] INFO: src/tree/updater_prune.cc:74: tree pruning end, 1 roots, 278 extra nodes, 0 pruned nodes, max_depth=10\n",
      "[12:26:55] INFO: src/tree/updater_prune.cc:74: tree pruning end, 1 roots, 348 extra nodes, 0 pruned nodes, max_depth=10\n",
      "[12:26:56] INFO: src/tree/updater_prune.cc:74: tree pruning end, 1 roots, 314 extra nodes, 0 pruned nodes, max_depth=10\n",
      "[12:26:56] INFO: src/tree/updater_prune.cc:74: tree pruning end, 1 roots, 138 extra nodes, 0 pruned nodes, max_depth=10\n",
      "[12:26:57] INFO: src/tree/updater_prune.cc:74: tree pruning end, 1 roots, 358 extra nodes, 0 pruned nodes, max_depth=10\n",
      "[12:26:58] INFO: src/tree/updater_prune.cc:74: tree pruning end, 1 roots, 48 extra nodes, 0 pruned nodes, max_depth=10\n",
      "[12:26:58] INFO: src/tree/updater_prune.cc:74: tree pruning end, 1 roots, 216 extra nodes, 0 pruned nodes, max_depth=10\n",
      "[12:26:59] INFO: src/tree/updater_prune.cc:74: tree pruning end, 1 roots, 42 extra nodes, 0 pruned nodes, max_depth=10\n",
      "[12:27:00] INFO: src/tree/updater_prune.cc:74: tree pruning end, 1 roots, 242 extra nodes, 0 pruned nodes, max_depth=10\n",
      "[12:27:00] INFO: src/tree/updater_prune.cc:74: tree pruning end, 1 roots, 306 extra nodes, 2 pruned nodes, max_depth=10\n",
      "[12:27:01] INFO: src/tree/updater_prune.cc:74: tree pruning end, 1 roots, 252 extra nodes, 2 pruned nodes, max_depth=10\n",
      "[12:27:02] INFO: src/tree/updater_prune.cc:74: tree pruning end, 1 roots, 220 extra nodes, 0 pruned nodes, max_depth=10\n",
      "[12:27:02] INFO: src/tree/updater_prune.cc:74: tree pruning end, 1 roots, 80 extra nodes, 0 pruned nodes, max_depth=10\n",
      "[12:27:03] INFO: src/tree/updater_prune.cc:74: tree pruning end, 1 roots, 224 extra nodes, 0 pruned nodes, max_depth=10\n",
      "[12:27:04] INFO: src/tree/updater_prune.cc:74: tree pruning end, 1 roots, 242 extra nodes, 2 pruned nodes, max_depth=10\n",
      "[12:27:04] INFO: src/tree/updater_prune.cc:74: tree pruning end, 1 roots, 250 extra nodes, 2 pruned nodes, max_depth=10\n",
      "[12:27:05] INFO: src/tree/updater_prune.cc:74: tree pruning end, 1 roots, 362 extra nodes, 0 pruned nodes, max_depth=10\n",
      "[12:27:05] INFO: src/tree/updater_prune.cc:74: tree pruning end, 1 roots, 30 extra nodes, 0 pruned nodes, max_depth=10\n",
      "[12:27:06] INFO: src/tree/updater_prune.cc:74: tree pruning end, 1 roots, 338 extra nodes, 0 pruned nodes, max_depth=10\n"
     ]
    },
    {
     "name": "stdout",
     "output_type": "stream",
     "text": [
      "[12:27:07] INFO: src/tree/updater_prune.cc:74: tree pruning end, 1 roots, 284 extra nodes, 4 pruned nodes, max_depth=10\n",
      "[12:27:08] INFO: src/tree/updater_prune.cc:74: tree pruning end, 1 roots, 96 extra nodes, 2 pruned nodes, max_depth=10\n",
      "[12:27:08] INFO: src/tree/updater_prune.cc:74: tree pruning end, 1 roots, 500 extra nodes, 2 pruned nodes, max_depth=10\n",
      "[12:27:09] INFO: src/tree/updater_prune.cc:74: tree pruning end, 1 roots, 80 extra nodes, 2 pruned nodes, max_depth=10\n",
      "[12:27:10] INFO: src/tree/updater_prune.cc:74: tree pruning end, 1 roots, 148 extra nodes, 0 pruned nodes, max_depth=10\n",
      "[12:27:10] INFO: src/tree/updater_prune.cc:74: tree pruning end, 1 roots, 242 extra nodes, 2 pruned nodes, max_depth=10\n",
      "[12:27:11] INFO: src/tree/updater_prune.cc:74: tree pruning end, 1 roots, 82 extra nodes, 0 pruned nodes, max_depth=10\n",
      "[12:27:12] INFO: src/tree/updater_prune.cc:74: tree pruning end, 1 roots, 198 extra nodes, 0 pruned nodes, max_depth=10\n",
      "[12:27:12] INFO: src/tree/updater_prune.cc:74: tree pruning end, 1 roots, 490 extra nodes, 0 pruned nodes, max_depth=10\n",
      "[12:27:13] INFO: src/tree/updater_prune.cc:74: tree pruning end, 1 roots, 272 extra nodes, 2 pruned nodes, max_depth=10\n",
      "[12:27:14] INFO: src/tree/updater_prune.cc:74: tree pruning end, 1 roots, 260 extra nodes, 2 pruned nodes, max_depth=10\n",
      "[12:27:15] INFO: src/tree/updater_prune.cc:74: tree pruning end, 1 roots, 176 extra nodes, 0 pruned nodes, max_depth=10\n",
      "[12:27:16] INFO: src/tree/updater_prune.cc:74: tree pruning end, 1 roots, 208 extra nodes, 0 pruned nodes, max_depth=10\n",
      "[12:27:16] INFO: src/tree/updater_prune.cc:74: tree pruning end, 1 roots, 314 extra nodes, 4 pruned nodes, max_depth=10\n",
      "[12:27:17] INFO: src/tree/updater_prune.cc:74: tree pruning end, 1 roots, 122 extra nodes, 0 pruned nodes, max_depth=10\n",
      "[12:27:18] INFO: src/tree/updater_prune.cc:74: tree pruning end, 1 roots, 210 extra nodes, 2 pruned nodes, max_depth=10\n",
      "[12:27:18] INFO: src/tree/updater_prune.cc:74: tree pruning end, 1 roots, 190 extra nodes, 0 pruned nodes, max_depth=10\n",
      "[12:27:19] INFO: src/tree/updater_prune.cc:74: tree pruning end, 1 roots, 324 extra nodes, 2 pruned nodes, max_depth=10\n",
      "[12:27:19] INFO: src/tree/updater_prune.cc:74: tree pruning end, 1 roots, 140 extra nodes, 6 pruned nodes, max_depth=10\n",
      "[12:27:20] INFO: src/tree/updater_prune.cc:74: tree pruning end, 1 roots, 150 extra nodes, 0 pruned nodes, max_depth=10\n",
      "[12:27:21] INFO: src/tree/updater_prune.cc:74: tree pruning end, 1 roots, 66 extra nodes, 0 pruned nodes, max_depth=10\n",
      "[12:27:21] INFO: src/tree/updater_prune.cc:74: tree pruning end, 1 roots, 228 extra nodes, 0 pruned nodes, max_depth=10\n",
      "[12:27:22] INFO: src/tree/updater_prune.cc:74: tree pruning end, 1 roots, 278 extra nodes, 0 pruned nodes, max_depth=10\n",
      "[12:27:23] INFO: src/tree/updater_prune.cc:74: tree pruning end, 1 roots, 432 extra nodes, 2 pruned nodes, max_depth=10\n",
      "[12:27:23] INFO: src/tree/updater_prune.cc:74: tree pruning end, 1 roots, 168 extra nodes, 0 pruned nodes, max_depth=10\n",
      "[12:27:24] INFO: src/tree/updater_prune.cc:74: tree pruning end, 1 roots, 308 extra nodes, 0 pruned nodes, max_depth=10\n",
      "[12:27:25] INFO: src/tree/updater_prune.cc:74: tree pruning end, 1 roots, 402 extra nodes, 2 pruned nodes, max_depth=10\n",
      "[12:27:25] INFO: src/tree/updater_prune.cc:74: tree pruning end, 1 roots, 448 extra nodes, 2 pruned nodes, max_depth=10\n",
      "[12:27:26] INFO: src/tree/updater_prune.cc:74: tree pruning end, 1 roots, 108 extra nodes, 0 pruned nodes, max_depth=10\n",
      "[12:27:27] INFO: src/tree/updater_prune.cc:74: tree pruning end, 1 roots, 208 extra nodes, 0 pruned nodes, max_depth=10\n",
      "[12:27:27] INFO: src/tree/updater_prune.cc:74: tree pruning end, 1 roots, 164 extra nodes, 0 pruned nodes, max_depth=10\n",
      "[12:27:28] INFO: src/tree/updater_prune.cc:74: tree pruning end, 1 roots, 146 extra nodes, 0 pruned nodes, max_depth=10\n",
      "[Pipeline] ..... (step 3 of 3) Processing xgbclassifier, total= 1.1min\n"
     ]
    },
    {
     "data": {
      "text/plain": [
       "Pipeline(memory=None,\n",
       "         steps=[('simpleimputer',\n",
       "                 SimpleImputer(add_indicator=False, copy=True, fill_value=None,\n",
       "                               missing_values=nan, strategy='mean',\n",
       "                               verbose=0)),\n",
       "                ('standardscaler',\n",
       "                 StandardScaler(copy=True, with_mean=True, with_std=True)),\n",
       "                ('xgbclassifier',\n",
       "                 XGBClassifier(base_score=0.5, booster='gbtree',\n",
       "                               colsample_bylevel=1, colsample_bynode=1,\n",
       "                               colsample_bytree=1, early_stopping_rounds=50,\n",
       "                               gamma=0.01, learning_rate=0.2, max_delta_step=0,\n",
       "                               max_depth=10, min_child_weight=1, missing=None,\n",
       "                               n_estimators=100, n_jobs=-1, nthread=None,\n",
       "                               objective='binary:logistic', random_state=0,\n",
       "                               reg_alpha=0, reg_lambda=1, scale_pos_weight=1,\n",
       "                               seed=None, silent=None, subsample=1,\n",
       "                               verbosity=3))],\n",
       "         verbose=True)"
      ]
     },
     "execution_count": 22,
     "metadata": {},
     "output_type": "execute_result"
    }
   ],
   "source": [
    "pipeline = make_pipeline(\n",
    "    SimpleImputer(),\n",
    "    StandardScaler(),\n",
    "    XGBClassifier(max_depth=10,\n",
    "                  learning_rate=0.2,\n",
    "                  booster='gbtree',\n",
    "                  gamma=0.01,\n",
    "                  n_jobs=-1,\n",
    "                  random_state=0,\n",
    "                  early_stopping_rounds=50,\n",
    "                  verbosity=3\n",
    "                 ),\n",
    "    verbose=True\n",
    ")\n",
    "\n",
    "pipeline.fit(X_train, y_train)"
   ]
  },
  {
   "cell_type": "code",
   "execution_count": 23,
   "metadata": {},
   "outputs": [
    {
     "data": {
      "text/plain": [
       "0.9914324373334821"
      ]
     },
     "execution_count": 23,
     "metadata": {},
     "output_type": "execute_result"
    }
   ],
   "source": [
    "pipeline.score(X_val, y_val)"
   ]
  },
  {
   "cell_type": "code",
   "execution_count": 24,
   "metadata": {},
   "outputs": [
    {
     "data": {
      "text/plain": [
       "0.9915091457673364"
      ]
     },
     "execution_count": 24,
     "metadata": {},
     "output_type": "execute_result"
    }
   ],
   "source": [
    "pipeline.score(X_test, y_test)"
   ]
  },
  {
   "cell_type": "code",
   "execution_count": 26,
   "metadata": {},
   "outputs": [],
   "source": [
    "import xgboost"
   ]
  },
  {
   "cell_type": "code",
   "execution_count": 28,
   "metadata": {},
   "outputs": [
    {
     "data": {
      "text/plain": [
       "'0.90'"
      ]
     },
     "execution_count": 28,
     "metadata": {},
     "output_type": "execute_result"
    }
   ],
   "source": [
    "xgboost.__version__"
   ]
  },
  {
   "cell_type": "code",
   "execution_count": 29,
   "metadata": {},
   "outputs": [
    {
     "name": "stdout",
     "output_type": "stream",
     "text": [
      "[Pipeline] ..... (step 1 of 3) Processing simpleimputer, total=   0.4s\n",
      "[Pipeline] .... (step 2 of 3) Processing standardscaler, total=   0.9s\n",
      "[13:47:32] INFO: src/tree/updater_prune.cc:74: tree pruning end, 1 roots, 648 extra nodes, 0 pruned nodes, max_depth=10\n",
      "[13:47:34] INFO: src/tree/updater_prune.cc:74: tree pruning end, 1 roots, 672 extra nodes, 0 pruned nodes, max_depth=10\n",
      "[13:47:36] INFO: src/tree/updater_prune.cc:74: tree pruning end, 1 roots, 738 extra nodes, 2 pruned nodes, max_depth=10\n",
      "[13:47:38] INFO: src/tree/updater_prune.cc:74: tree pruning end, 1 roots, 744 extra nodes, 2 pruned nodes, max_depth=10\n",
      "[13:47:40] INFO: src/tree/updater_prune.cc:74: tree pruning end, 1 roots, 742 extra nodes, 6 pruned nodes, max_depth=10\n",
      "[13:47:42] INFO: src/tree/updater_prune.cc:74: tree pruning end, 1 roots, 734 extra nodes, 0 pruned nodes, max_depth=10\n",
      "[13:47:44] INFO: src/tree/updater_prune.cc:74: tree pruning end, 1 roots, 776 extra nodes, 0 pruned nodes, max_depth=10\n",
      "[13:47:46] INFO: src/tree/updater_prune.cc:74: tree pruning end, 1 roots, 766 extra nodes, 0 pruned nodes, max_depth=10\n",
      "[13:47:48] INFO: src/tree/updater_prune.cc:74: tree pruning end, 1 roots, 742 extra nodes, 0 pruned nodes, max_depth=10\n",
      "[13:47:50] INFO: src/tree/updater_prune.cc:74: tree pruning end, 1 roots, 744 extra nodes, 0 pruned nodes, max_depth=10\n",
      "[13:47:53] INFO: src/tree/updater_prune.cc:74: tree pruning end, 1 roots, 718 extra nodes, 0 pruned nodes, max_depth=10\n",
      "[13:47:55] INFO: src/tree/updater_prune.cc:74: tree pruning end, 1 roots, 726 extra nodes, 0 pruned nodes, max_depth=10\n",
      "[13:47:57] INFO: src/tree/updater_prune.cc:74: tree pruning end, 1 roots, 708 extra nodes, 0 pruned nodes, max_depth=10\n",
      "[13:47:59] INFO: src/tree/updater_prune.cc:74: tree pruning end, 1 roots, 658 extra nodes, 4 pruned nodes, max_depth=10\n",
      "[13:48:01] INFO: src/tree/updater_prune.cc:74: tree pruning end, 1 roots, 700 extra nodes, 0 pruned nodes, max_depth=10\n",
      "[13:48:04] INFO: src/tree/updater_prune.cc:74: tree pruning end, 1 roots, 628 extra nodes, 0 pruned nodes, max_depth=10\n",
      "[13:48:06] INFO: src/tree/updater_prune.cc:74: tree pruning end, 1 roots, 462 extra nodes, 2 pruned nodes, max_depth=10\n",
      "[13:48:08] INFO: src/tree/updater_prune.cc:74: tree pruning end, 1 roots, 526 extra nodes, 2 pruned nodes, max_depth=10\n",
      "[13:48:10] INFO: src/tree/updater_prune.cc:74: tree pruning end, 1 roots, 486 extra nodes, 0 pruned nodes, max_depth=10\n",
      "[13:48:11] INFO: src/tree/updater_prune.cc:74: tree pruning end, 1 roots, 402 extra nodes, 0 pruned nodes, max_depth=10\n",
      "[13:48:13] INFO: src/tree/updater_prune.cc:74: tree pruning end, 1 roots, 436 extra nodes, 2 pruned nodes, max_depth=10\n",
      "[13:48:15] INFO: src/tree/updater_prune.cc:74: tree pruning end, 1 roots, 336 extra nodes, 0 pruned nodes, max_depth=10\n",
      "[13:48:17] INFO: src/tree/updater_prune.cc:74: tree pruning end, 1 roots, 362 extra nodes, 0 pruned nodes, max_depth=10\n",
      "[13:48:19] INFO: src/tree/updater_prune.cc:74: tree pruning end, 1 roots, 306 extra nodes, 0 pruned nodes, max_depth=10\n",
      "[13:48:21] INFO: src/tree/updater_prune.cc:74: tree pruning end, 1 roots, 332 extra nodes, 0 pruned nodes, max_depth=10\n",
      "[13:48:23] INFO: src/tree/updater_prune.cc:74: tree pruning end, 1 roots, 424 extra nodes, 0 pruned nodes, max_depth=10\n",
      "[13:48:25] INFO: src/tree/updater_prune.cc:74: tree pruning end, 1 roots, 424 extra nodes, 0 pruned nodes, max_depth=10\n",
      "[13:48:27] INFO: src/tree/updater_prune.cc:74: tree pruning end, 1 roots, 274 extra nodes, 0 pruned nodes, max_depth=10\n",
      "[13:48:29] INFO: src/tree/updater_prune.cc:74: tree pruning end, 1 roots, 326 extra nodes, 0 pruned nodes, max_depth=10\n",
      "[13:48:32] INFO: src/tree/updater_prune.cc:74: tree pruning end, 1 roots, 306 extra nodes, 0 pruned nodes, max_depth=10\n",
      "[13:48:34] INFO: src/tree/updater_prune.cc:74: tree pruning end, 1 roots, 248 extra nodes, 0 pruned nodes, max_depth=10\n",
      "[13:48:36] INFO: src/tree/updater_prune.cc:74: tree pruning end, 1 roots, 302 extra nodes, 0 pruned nodes, max_depth=10\n",
      "[13:48:38] INFO: src/tree/updater_prune.cc:74: tree pruning end, 1 roots, 174 extra nodes, 0 pruned nodes, max_depth=10\n",
      "[13:48:40] INFO: src/tree/updater_prune.cc:74: tree pruning end, 1 roots, 180 extra nodes, 2 pruned nodes, max_depth=10\n",
      "[13:48:42] INFO: src/tree/updater_prune.cc:74: tree pruning end, 1 roots, 244 extra nodes, 0 pruned nodes, max_depth=10\n",
      "[13:48:45] INFO: src/tree/updater_prune.cc:74: tree pruning end, 1 roots, 422 extra nodes, 2 pruned nodes, max_depth=10\n",
      "[13:48:47] INFO: src/tree/updater_prune.cc:74: tree pruning end, 1 roots, 340 extra nodes, 2 pruned nodes, max_depth=10\n",
      "[13:48:48] INFO: src/tree/updater_prune.cc:74: tree pruning end, 1 roots, 222 extra nodes, 0 pruned nodes, max_depth=10\n",
      "[13:48:50] INFO: src/tree/updater_prune.cc:74: tree pruning end, 1 roots, 210 extra nodes, 0 pruned nodes, max_depth=10\n",
      "[13:48:53] INFO: src/tree/updater_prune.cc:74: tree pruning end, 1 roots, 320 extra nodes, 0 pruned nodes, max_depth=10\n",
      "[13:48:55] INFO: src/tree/updater_prune.cc:74: tree pruning end, 1 roots, 236 extra nodes, 2 pruned nodes, max_depth=10\n",
      "[13:48:56] INFO: src/tree/updater_prune.cc:74: tree pruning end, 1 roots, 220 extra nodes, 0 pruned nodes, max_depth=10\n",
      "[13:48:58] INFO: src/tree/updater_prune.cc:74: tree pruning end, 1 roots, 552 extra nodes, 2 pruned nodes, max_depth=10\n",
      "[13:49:01] INFO: src/tree/updater_prune.cc:74: tree pruning end, 1 roots, 380 extra nodes, 0 pruned nodes, max_depth=10\n",
      "[13:49:03] INFO: src/tree/updater_prune.cc:74: tree pruning end, 1 roots, 348 extra nodes, 0 pruned nodes, max_depth=10\n",
      "[13:49:05] INFO: src/tree/updater_prune.cc:74: tree pruning end, 1 roots, 482 extra nodes, 0 pruned nodes, max_depth=10\n",
      "[13:49:07] INFO: src/tree/updater_prune.cc:74: tree pruning end, 1 roots, 474 extra nodes, 0 pruned nodes, max_depth=10\n",
      "[13:49:09] INFO: src/tree/updater_prune.cc:74: tree pruning end, 1 roots, 226 extra nodes, 0 pruned nodes, max_depth=10\n",
      "[13:49:11] INFO: src/tree/updater_prune.cc:74: tree pruning end, 1 roots, 568 extra nodes, 2 pruned nodes, max_depth=10\n",
      "[13:49:13] INFO: src/tree/updater_prune.cc:74: tree pruning end, 1 roots, 300 extra nodes, 0 pruned nodes, max_depth=10\n",
      "[13:49:15] INFO: src/tree/updater_prune.cc:74: tree pruning end, 1 roots, 406 extra nodes, 0 pruned nodes, max_depth=10\n",
      "[13:49:17] INFO: src/tree/updater_prune.cc:74: tree pruning end, 1 roots, 244 extra nodes, 0 pruned nodes, max_depth=10\n",
      "[13:49:19] INFO: src/tree/updater_prune.cc:74: tree pruning end, 1 roots, 542 extra nodes, 0 pruned nodes, max_depth=10\n",
      "[13:49:21] INFO: src/tree/updater_prune.cc:74: tree pruning end, 1 roots, 432 extra nodes, 0 pruned nodes, max_depth=10\n",
      "[13:49:23] INFO: src/tree/updater_prune.cc:74: tree pruning end, 1 roots, 448 extra nodes, 0 pruned nodes, max_depth=10\n",
      "[13:49:25] INFO: src/tree/updater_prune.cc:74: tree pruning end, 1 roots, 76 extra nodes, 0 pruned nodes, max_depth=10\n",
      "[13:49:28] INFO: src/tree/updater_prune.cc:74: tree pruning end, 1 roots, 578 extra nodes, 0 pruned nodes, max_depth=10\n",
      "[13:49:30] INFO: src/tree/updater_prune.cc:74: tree pruning end, 1 roots, 126 extra nodes, 2 pruned nodes, max_depth=10\n",
      "[13:49:32] INFO: src/tree/updater_prune.cc:74: tree pruning end, 1 roots, 384 extra nodes, 0 pruned nodes, max_depth=10\n",
      "[13:49:34] INFO: src/tree/updater_prune.cc:74: tree pruning end, 1 roots, 198 extra nodes, 0 pruned nodes, max_depth=10\n",
      "[13:49:36] INFO: src/tree/updater_prune.cc:74: tree pruning end, 1 roots, 476 extra nodes, 0 pruned nodes, max_depth=10\n",
      "[13:49:38] INFO: src/tree/updater_prune.cc:74: tree pruning end, 1 roots, 100 extra nodes, 2 pruned nodes, max_depth=10\n",
      "[13:49:40] INFO: src/tree/updater_prune.cc:74: tree pruning end, 1 roots, 46 extra nodes, 0 pruned nodes, max_depth=10\n",
      "[13:49:42] INFO: src/tree/updater_prune.cc:74: tree pruning end, 1 roots, 440 extra nodes, 0 pruned nodes, max_depth=10\n",
      "[13:49:44] INFO: src/tree/updater_prune.cc:74: tree pruning end, 1 roots, 278 extra nodes, 0 pruned nodes, max_depth=10\n",
      "[13:49:47] INFO: src/tree/updater_prune.cc:74: tree pruning end, 1 roots, 482 extra nodes, 0 pruned nodes, max_depth=10\n",
      "[13:49:49] INFO: src/tree/updater_prune.cc:74: tree pruning end, 1 roots, 316 extra nodes, 2 pruned nodes, max_depth=10\n",
      "[13:49:51] INFO: src/tree/updater_prune.cc:74: tree pruning end, 1 roots, 336 extra nodes, 0 pruned nodes, max_depth=10\n"
     ]
    },
    {
     "name": "stdout",
     "output_type": "stream",
     "text": [
      "[13:49:53] INFO: src/tree/updater_prune.cc:74: tree pruning end, 1 roots, 392 extra nodes, 4 pruned nodes, max_depth=10\n",
      "[13:49:55] INFO: src/tree/updater_prune.cc:74: tree pruning end, 1 roots, 78 extra nodes, 0 pruned nodes, max_depth=10\n",
      "[13:49:57] INFO: src/tree/updater_prune.cc:74: tree pruning end, 1 roots, 144 extra nodes, 0 pruned nodes, max_depth=10\n",
      "[13:49:59] INFO: src/tree/updater_prune.cc:74: tree pruning end, 1 roots, 250 extra nodes, 2 pruned nodes, max_depth=10\n",
      "[13:50:01] INFO: src/tree/updater_prune.cc:74: tree pruning end, 1 roots, 44 extra nodes, 0 pruned nodes, max_depth=10\n",
      "[13:50:02] INFO: src/tree/updater_prune.cc:74: tree pruning end, 1 roots, 168 extra nodes, 0 pruned nodes, max_depth=10\n",
      "[13:50:04] INFO: src/tree/updater_prune.cc:74: tree pruning end, 1 roots, 46 extra nodes, 0 pruned nodes, max_depth=10\n",
      "[13:50:06] INFO: src/tree/updater_prune.cc:74: tree pruning end, 1 roots, 320 extra nodes, 0 pruned nodes, max_depth=10\n",
      "[13:50:08] INFO: src/tree/updater_prune.cc:74: tree pruning end, 1 roots, 222 extra nodes, 2 pruned nodes, max_depth=10\n",
      "[13:50:10] INFO: src/tree/updater_prune.cc:74: tree pruning end, 1 roots, 342 extra nodes, 0 pruned nodes, max_depth=10\n",
      "[13:50:13] INFO: src/tree/updater_prune.cc:74: tree pruning end, 1 roots, 258 extra nodes, 0 pruned nodes, max_depth=10\n",
      "[13:50:14] INFO: src/tree/updater_prune.cc:74: tree pruning end, 1 roots, 306 extra nodes, 0 pruned nodes, max_depth=10\n",
      "[13:50:17] INFO: src/tree/updater_prune.cc:74: tree pruning end, 1 roots, 452 extra nodes, 2 pruned nodes, max_depth=10\n",
      "[13:50:19] INFO: src/tree/updater_prune.cc:74: tree pruning end, 1 roots, 434 extra nodes, 0 pruned nodes, max_depth=10\n",
      "[13:50:21] INFO: src/tree/updater_prune.cc:74: tree pruning end, 1 roots, 362 extra nodes, 0 pruned nodes, max_depth=10\n",
      "[13:50:23] INFO: src/tree/updater_prune.cc:74: tree pruning end, 1 roots, 312 extra nodes, 0 pruned nodes, max_depth=10\n",
      "[13:50:25] INFO: src/tree/updater_prune.cc:74: tree pruning end, 1 roots, 186 extra nodes, 0 pruned nodes, max_depth=10\n",
      "[13:50:27] INFO: src/tree/updater_prune.cc:74: tree pruning end, 1 roots, 196 extra nodes, 0 pruned nodes, max_depth=10\n",
      "[13:50:29] INFO: src/tree/updater_prune.cc:74: tree pruning end, 1 roots, 414 extra nodes, 4 pruned nodes, max_depth=10\n",
      "[13:50:31] INFO: src/tree/updater_prune.cc:74: tree pruning end, 1 roots, 228 extra nodes, 2 pruned nodes, max_depth=10\n",
      "[13:50:33] INFO: src/tree/updater_prune.cc:74: tree pruning end, 1 roots, 186 extra nodes, 0 pruned nodes, max_depth=10\n",
      "[13:50:35] INFO: src/tree/updater_prune.cc:74: tree pruning end, 1 roots, 296 extra nodes, 0 pruned nodes, max_depth=10\n",
      "[13:50:37] INFO: src/tree/updater_prune.cc:74: tree pruning end, 1 roots, 214 extra nodes, 0 pruned nodes, max_depth=10\n",
      "[13:50:39] INFO: src/tree/updater_prune.cc:74: tree pruning end, 1 roots, 420 extra nodes, 0 pruned nodes, max_depth=10\n",
      "[13:50:42] INFO: src/tree/updater_prune.cc:74: tree pruning end, 1 roots, 284 extra nodes, 0 pruned nodes, max_depth=10\n",
      "[13:50:44] INFO: src/tree/updater_prune.cc:74: tree pruning end, 1 roots, 438 extra nodes, 0 pruned nodes, max_depth=10\n",
      "[13:50:46] INFO: src/tree/updater_prune.cc:74: tree pruning end, 1 roots, 392 extra nodes, 0 pruned nodes, max_depth=10\n",
      "[13:50:48] INFO: src/tree/updater_prune.cc:74: tree pruning end, 1 roots, 170 extra nodes, 0 pruned nodes, max_depth=10\n",
      "[13:50:51] INFO: src/tree/updater_prune.cc:74: tree pruning end, 1 roots, 332 extra nodes, 2 pruned nodes, max_depth=10\n",
      "[13:50:53] INFO: src/tree/updater_prune.cc:74: tree pruning end, 1 roots, 472 extra nodes, 2 pruned nodes, max_depth=10\n",
      "[13:50:54] INFO: src/tree/updater_prune.cc:74: tree pruning end, 1 roots, 116 extra nodes, 0 pruned nodes, max_depth=10\n",
      "[13:50:57] INFO: src/tree/updater_prune.cc:74: tree pruning end, 1 roots, 240 extra nodes, 0 pruned nodes, max_depth=10\n",
      "[13:50:57] ======== Monitor: Learner ========\n",
      "[13:50:57] GetGradient: 1.43634s, 100 calls @ 14363us\n",
      "[13:50:57] PredictRaw: 0.0789243s, 100 calls @ 789us\n",
      "[13:50:57] UpdateOneIter: 68.0783s, 100 calls @ 680783us\n",
      "[13:50:57] ======== Monitor: GBTree ========\n",
      "[13:50:57] BoostNewTrees: 64.7187s, 100 calls @ 647187us\n",
      "[13:50:57] CommitModel: 1.84334s, 100 calls @ 18433us\n",
      "[Pipeline] ..... (step 3 of 3) Processing xgbclassifier, total= 3.5min\n"
     ]
    },
    {
     "data": {
      "text/plain": [
       "Pipeline(memory=None,\n",
       "         steps=[('simpleimputer',\n",
       "                 SimpleImputer(add_indicator=False, copy=True, fill_value=None,\n",
       "                               missing_values=nan, strategy='mean',\n",
       "                               verbose=0)),\n",
       "                ('standardscaler',\n",
       "                 StandardScaler(copy=True, with_mean=True, with_std=True)),\n",
       "                ('xgbclassifier',\n",
       "                 XGBClassifier(base_score=0.5, booster='gbtree',\n",
       "                               colsample_bylevel=1, colsample_bynode=1,\n",
       "                               colsample_bytree=1, early_stopping_rounds=50,\n",
       "                               gamma=0.01, learning_rate=0.2, max_delta_step=0,\n",
       "                               max_depth=10, min_child_weight=1, missing=None,\n",
       "                               n_estimators=100, n_jobs=-1, nthread=None,\n",
       "                               objective='binary:logistic', random_state=0,\n",
       "                               reg_alpha=0, reg_lambda=1, scale_pos_weight=1,\n",
       "                               seed=None, silent=None, subsample=1,\n",
       "                               verbosity=3))],\n",
       "         verbose=True)"
      ]
     },
     "execution_count": 29,
     "metadata": {},
     "output_type": "execute_result"
    }
   ],
   "source": [
    "pipeline.fit(df[features], df[target])"
   ]
  },
  {
   "cell_type": "code",
   "execution_count": 30,
   "metadata": {},
   "outputs": [
    {
     "data": {
      "text/plain": [
       "['../assets/whowon.pkl']"
      ]
     },
     "execution_count": 30,
     "metadata": {},
     "output_type": "execute_result"
    }
   ],
   "source": [
    "import joblib\n",
    "joblib.dump(pipeline, '../assets/whowon.pkl')"
   ]
  },
  {
   "cell_type": "code",
   "execution_count": 31,
   "metadata": {},
   "outputs": [
    {
     "data": {
      "text/plain": [
       "0"
      ]
     },
     "execution_count": 31,
     "metadata": {},
     "output_type": "execute_result"
    }
   ],
   "source": [
    "df.duration.min()"
   ]
  },
  {
   "cell_type": "code",
   "execution_count": 32,
   "metadata": {},
   "outputs": [
    {
     "data": {
      "text/plain": [
       "18232"
      ]
     },
     "execution_count": 32,
     "metadata": {},
     "output_type": "execute_result"
    }
   ],
   "source": [
    "df.duration.max()"
   ]
  },
  {
   "cell_type": "code",
   "execution_count": 38,
   "metadata": {},
   "outputs": [
    {
     "data": {
      "text/plain": [
       "2535.112245933471"
      ]
     },
     "execution_count": 38,
     "metadata": {},
     "output_type": "execute_result"
    }
   ],
   "source": [
    "df.duration.mean()"
   ]
  },
  {
   "cell_type": "code",
   "execution_count": 36,
   "metadata": {},
   "outputs": [
    {
     "data": {
      "text/plain": [
       "75.0"
      ]
     },
     "execution_count": 36,
     "metadata": {},
     "output_type": "execute_result"
    }
   ],
   "source": [
    "4500/60"
   ]
  },
  {
   "cell_type": "code",
   "execution_count": 41,
   "metadata": {},
   "outputs": [
    {
     "name": "stdout",
     "output_type": "stream",
     "text": [
      "duration\n",
      "0 562.5081775897913 2535.112245933471 4507.716314277151 18232\n",
      "tower_status_radiant\n",
      "0 -1811.5530718552864 1013.2099038344849 3837.9728795242563 2047\n",
      "tower_status_dire\n",
      "0 -1836.7555235441628 958.0768685947197 3752.909260733602 2047\n",
      "barracks_status_radiant\n",
      "0 -51.27789014684418 36.29389644003465 123.86568302691347 63\n",
      "barracks_status_dire\n",
      "0 -48.918880978059384 36.636536827877116 122.19195463381362 63\n",
      "first_blood_time\n",
      "0 -169.13021613340408 108.92677893648808 386.9837740063802 2863\n"
     ]
    }
   ],
   "source": [
    "for feature in features:\n",
    "    print(feature)\n",
    "    print(df[feature].min(), df[feature].mean() - df[feature].std() * 3, df[feature].mean(), df[feature].mean() + df[feature].std() * 3, df[feature].max())"
   ]
  },
  {
   "cell_type": "code",
   "execution_count": 46,
   "metadata": {},
   "outputs": [
    {
     "name": "stdout",
     "output_type": "stream",
     "text": [
      "['duration', 'tower_status_radiant', 'tower_status_dire', 'barracks_status_radiant', 'barracks_status_dire', 'first_blood_time']\n"
     ]
    }
   ],
   "source": [
    "print(features)"
   ]
  },
  {
   "cell_type": "code",
   "execution_count": null,
   "metadata": {},
   "outputs": [],
   "source": []
  }
 ],
 "metadata": {
  "kernelspec": {
   "display_name": "Python 3",
   "language": "python",
   "name": "python3"
  },
  "language_info": {
   "codemirror_mode": {
    "name": "ipython",
    "version": 3
   },
   "file_extension": ".py",
   "mimetype": "text/x-python",
   "name": "python",
   "nbconvert_exporter": "python",
   "pygments_lexer": "ipython3",
   "version": "3.7.4"
  }
 },
 "nbformat": 4,
 "nbformat_minor": 2
}

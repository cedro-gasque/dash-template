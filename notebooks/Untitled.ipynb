{
 "cells": [
  {
   "cell_type": "code",
   "execution_count": 1,
   "metadata": {},
   "outputs": [],
   "source": [
    "import pandas as pd\n",
    "pd.set_option('display.max_columns', 999)\n",
    "PATH = \"../../DS-Unit-2-Applied-Modeling/data/dota/\""
   ]
  },
  {
   "cell_type": "code",
   "execution_count": 66,
   "metadata": {
    "scrolled": true
   },
   "outputs": [
    {
     "data": {
      "text/plain": [
       "1911704"
      ]
     },
     "metadata": {},
     "output_type": "display_data"
    },
    {
     "name": "stdout",
     "output_type": "stream",
     "text": [
      "Wall time: 3min 28s\n"
     ]
    }
   ],
   "source": [
    "%%time\n",
    "matches_small_chunk = pd.read_csv(PATH + 'matches_small.csv', chunksize=10000)\n",
    "i = 0\n",
    "\n",
    "for chunk in matches_small_chunk:\n",
    "    if i == 0:\n",
    "        df = chunk[chunk.human_players == 10]\n",
    "        df.to_csv(path_or_buf=PATH + \"full_players_games.csv\", mode='w', index=False)\n",
    "        i += df.shape[0]\n",
    "        continue\n",
    "    df = chunk[chunk.human_players == 10]\n",
    "    df.to_csv(path_or_buf=PATH + \"full_players_games.csv\", mode='a', header=False, index=False)\n",
    "    i += df.shape[0]\n",
    "display(i)"
   ]
  },
  {
   "cell_type": "code",
   "execution_count": 13,
   "metadata": {},
   "outputs": [
    {
     "name": "stdout",
     "output_type": "stream",
     "text": [
      "Wall time: 15.6 s\n"
     ]
    }
   ],
   "source": [
    "%%time\n",
    "filename = PATH + \"full_players_games.csv\"\n",
    "df = pd.read_csv(filename, usecols=['match_id', 'radiant_win', 'duration', 'tower_status_radiant', 'tower_status_dire', 'barracks_status_radiant', 'barracks_status_dire', 'first_blood_time'])"
   ]
  },
  {
   "cell_type": "code",
   "execution_count": 14,
   "metadata": {},
   "outputs": [],
   "source": [
    "radiant_win = df['radiant_win'] == 't'\n",
    "df = df.assign(radiant_win=radiant_win)"
   ]
  },
  {
   "cell_type": "code",
   "execution_count": 15,
   "metadata": {},
   "outputs": [
    {
     "data": {
      "text/html": [
       "<div>\n",
       "<style scoped>\n",
       "    .dataframe tbody tr th:only-of-type {\n",
       "        vertical-align: middle;\n",
       "    }\n",
       "\n",
       "    .dataframe tbody tr th {\n",
       "        vertical-align: top;\n",
       "    }\n",
       "\n",
       "    .dataframe thead th {\n",
       "        text-align: right;\n",
       "    }\n",
       "</style>\n",
       "<table border=\"1\" class=\"dataframe\">\n",
       "  <thead>\n",
       "    <tr style=\"text-align: right;\">\n",
       "      <th></th>\n",
       "      <th>match_id</th>\n",
       "      <th>radiant_win</th>\n",
       "      <th>duration</th>\n",
       "      <th>tower_status_radiant</th>\n",
       "      <th>tower_status_dire</th>\n",
       "      <th>barracks_status_radiant</th>\n",
       "      <th>barracks_status_dire</th>\n",
       "      <th>first_blood_time</th>\n",
       "    </tr>\n",
       "  </thead>\n",
       "  <tbody>\n",
       "    <tr>\n",
       "      <td>0</td>\n",
       "      <td>2304340261</td>\n",
       "      <td>True</td>\n",
       "      <td>1701</td>\n",
       "      <td>1975</td>\n",
       "      <td>4</td>\n",
       "      <td>63</td>\n",
       "      <td>3</td>\n",
       "      <td>100</td>\n",
       "    </tr>\n",
       "    <tr>\n",
       "      <td>1</td>\n",
       "      <td>2304335744</td>\n",
       "      <td>True</td>\n",
       "      <td>2299</td>\n",
       "      <td>1983</td>\n",
       "      <td>0</td>\n",
       "      <td>63</td>\n",
       "      <td>0</td>\n",
       "      <td>127</td>\n",
       "    </tr>\n",
       "    <tr>\n",
       "      <td>2</td>\n",
       "      <td>2304324185</td>\n",
       "      <td>True</td>\n",
       "      <td>3291</td>\n",
       "      <td>1584</td>\n",
       "      <td>0</td>\n",
       "      <td>60</td>\n",
       "      <td>0</td>\n",
       "      <td>196</td>\n",
       "    </tr>\n",
       "    <tr>\n",
       "      <td>3</td>\n",
       "      <td>2304339409</td>\n",
       "      <td>False</td>\n",
       "      <td>2192</td>\n",
       "      <td>0</td>\n",
       "      <td>1982</td>\n",
       "      <td>0</td>\n",
       "      <td>63</td>\n",
       "      <td>44</td>\n",
       "    </tr>\n",
       "    <tr>\n",
       "      <td>4</td>\n",
       "      <td>2304329004</td>\n",
       "      <td>True</td>\n",
       "      <td>2989</td>\n",
       "      <td>4</td>\n",
       "      <td>0</td>\n",
       "      <td>3</td>\n",
       "      <td>48</td>\n",
       "      <td>104</td>\n",
       "    </tr>\n",
       "    <tr>\n",
       "      <td>...</td>\n",
       "      <td>...</td>\n",
       "      <td>...</td>\n",
       "      <td>...</td>\n",
       "      <td>...</td>\n",
       "      <td>...</td>\n",
       "      <td>...</td>\n",
       "      <td>...</td>\n",
       "      <td>...</td>\n",
       "    </tr>\n",
       "    <tr>\n",
       "      <td>1911699</td>\n",
       "      <td>2306490763</td>\n",
       "      <td>False</td>\n",
       "      <td>2517</td>\n",
       "      <td>6</td>\n",
       "      <td>1972</td>\n",
       "      <td>3</td>\n",
       "      <td>63</td>\n",
       "      <td>15</td>\n",
       "    </tr>\n",
       "    <tr>\n",
       "      <td>1911700</td>\n",
       "      <td>2306496027</td>\n",
       "      <td>False</td>\n",
       "      <td>2100</td>\n",
       "      <td>256</td>\n",
       "      <td>2046</td>\n",
       "      <td>48</td>\n",
       "      <td>63</td>\n",
       "      <td>0</td>\n",
       "    </tr>\n",
       "    <tr>\n",
       "      <td>1911701</td>\n",
       "      <td>2306500208</td>\n",
       "      <td>True</td>\n",
       "      <td>1728</td>\n",
       "      <td>2047</td>\n",
       "      <td>0</td>\n",
       "      <td>63</td>\n",
       "      <td>0</td>\n",
       "      <td>56</td>\n",
       "    </tr>\n",
       "    <tr>\n",
       "      <td>1911702</td>\n",
       "      <td>2306480548</td>\n",
       "      <td>True</td>\n",
       "      <td>3274</td>\n",
       "      <td>1844</td>\n",
       "      <td>0</td>\n",
       "      <td>63</td>\n",
       "      <td>0</td>\n",
       "      <td>51</td>\n",
       "    </tr>\n",
       "    <tr>\n",
       "      <td>1911703</td>\n",
       "      <td>2306492515</td>\n",
       "      <td>False</td>\n",
       "      <td>2126</td>\n",
       "      <td>256</td>\n",
       "      <td>2047</td>\n",
       "      <td>48</td>\n",
       "      <td>63</td>\n",
       "      <td>271</td>\n",
       "    </tr>\n",
       "  </tbody>\n",
       "</table>\n",
       "<p>1911704 rows × 8 columns</p>\n",
       "</div>"
      ],
      "text/plain": [
       "           match_id  radiant_win  duration  tower_status_radiant  \\\n",
       "0        2304340261         True      1701                  1975   \n",
       "1        2304335744         True      2299                  1983   \n",
       "2        2304324185         True      3291                  1584   \n",
       "3        2304339409        False      2192                     0   \n",
       "4        2304329004         True      2989                     4   \n",
       "...             ...          ...       ...                   ...   \n",
       "1911699  2306490763        False      2517                     6   \n",
       "1911700  2306496027        False      2100                   256   \n",
       "1911701  2306500208         True      1728                  2047   \n",
       "1911702  2306480548         True      3274                  1844   \n",
       "1911703  2306492515        False      2126                   256   \n",
       "\n",
       "         tower_status_dire  barracks_status_radiant  barracks_status_dire  \\\n",
       "0                        4                       63                     3   \n",
       "1                        0                       63                     0   \n",
       "2                        0                       60                     0   \n",
       "3                     1982                        0                    63   \n",
       "4                        0                        3                    48   \n",
       "...                    ...                      ...                   ...   \n",
       "1911699               1972                        3                    63   \n",
       "1911700               2046                       48                    63   \n",
       "1911701                  0                       63                     0   \n",
       "1911702                  0                       63                     0   \n",
       "1911703               2047                       48                    63   \n",
       "\n",
       "         first_blood_time  \n",
       "0                     100  \n",
       "1                     127  \n",
       "2                     196  \n",
       "3                      44  \n",
       "4                     104  \n",
       "...                   ...  \n",
       "1911699                15  \n",
       "1911700                 0  \n",
       "1911701                56  \n",
       "1911702                51  \n",
       "1911703               271  \n",
       "\n",
       "[1911704 rows x 8 columns]"
      ]
     },
     "execution_count": 15,
     "metadata": {},
     "output_type": "execute_result"
    }
   ],
   "source": [
    "df"
   ]
  },
  {
   "cell_type": "code",
   "execution_count": 16,
   "metadata": {},
   "outputs": [],
   "source": [
    "from sklearn.pipeline import make_pipeline\n",
    "from sklearn.preprocessing import StandardScaler\n",
    "from sklearn.impute import SimpleImputer\n",
    "from xgboost import XGBClassifier\n",
    "from sklearn.model_selection import train_test_split"
   ]
  },
  {
   "cell_type": "code",
   "execution_count": 17,
   "metadata": {},
   "outputs": [],
   "source": [
    "train, test = train_test_split(df, random_state=0)"
   ]
  },
  {
   "cell_type": "code",
   "execution_count": 18,
   "metadata": {},
   "outputs": [],
   "source": [
    "train, val = train_test_split(train, random_state=0)"
   ]
  },
  {
   "cell_type": "code",
   "execution_count": 19,
   "metadata": {},
   "outputs": [],
   "source": [
    "target = 'radiant_win'\n",
    "features = ['duration', 'tower_status_radiant',\n",
    "       'tower_status_dire', 'barracks_status_radiant', 'barracks_status_dire',\n",
    "       'first_blood_time']\n",
    "X_train = train[features]\n",
    "y_train = train[target]\n",
    "X_val = val[features]\n",
    "y_val = val[target]\n",
    "X_test = test[features]\n",
    "y_test = test[target]"
   ]
  },
  {
   "cell_type": "code",
   "execution_count": 26,
   "metadata": {},
   "outputs": [
    {
     "name": "stderr",
     "output_type": "stream",
     "text": [
      "Exception ignored in: <function Booster.__del__ at 0x00000257F2CC6A68>\n",
      "Traceback (most recent call last):\n",
      "  File \"C:\\ProgramData\\Anaconda3\\lib\\site-packages\\xgboost\\core.py\", line 957, in __del__\n",
      "    if self.handle is not None:\n",
      "AttributeError: 'Booster' object has no attribute 'handle'\n"
     ]
    },
    {
     "name": "stdout",
     "output_type": "stream",
     "text": [
      "[Pipeline] ..... (step 1 of 3) Processing simpleimputer, total=   0.2s\n",
      "[Pipeline] .... (step 2 of 3) Processing standardscaler, total=   0.3s\n",
      "[10:52:47] INFO: src/tree/updater_prune.cc:74: tree pruning end, 1 roots, 642 extra nodes, 4 pruned nodes, max_depth=10\n",
      "[0]\tvalidation_0-error:0.219856\tvalidation_1-error:0.221897\n",
      "[10:52:48] INFO: src/tree/updater_prune.cc:74: tree pruning end, 1 roots, 642 extra nodes, 0 pruned nodes, max_depth=10\n",
      "[1]\tvalidation_0-error:0.538102\tvalidation_1-error:0.538222\n",
      "[10:52:49] INFO: src/tree/updater_prune.cc:74: tree pruning end, 1 roots, 668 extra nodes, 2 pruned nodes, max_depth=10\n",
      "[2]\tvalidation_0-error:0.219847\tvalidation_1-error:0.221869\n",
      "[10:52:49] INFO: src/tree/updater_prune.cc:74: tree pruning end, 1 roots, 658 extra nodes, 0 pruned nodes, max_depth=10\n",
      "[3]\tvalidation_0-error:0.219847\tvalidation_1-error:0.221869\n",
      "[10:52:50] INFO: src/tree/updater_prune.cc:74: tree pruning end, 1 roots, 692 extra nodes, 0 pruned nodes, max_depth=10\n",
      "[4]\tvalidation_0-error:0.219847\tvalidation_1-error:0.221869\n",
      "[10:52:51] INFO: src/tree/updater_prune.cc:74: tree pruning end, 1 roots, 658 extra nodes, 2 pruned nodes, max_depth=10\n",
      "[5]\tvalidation_0-error:0.219847\tvalidation_1-error:0.221869\n",
      "[10:52:51] INFO: src/tree/updater_prune.cc:74: tree pruning end, 1 roots, 636 extra nodes, 2 pruned nodes, max_depth=10\n",
      "[6]\tvalidation_0-error:0.220129\tvalidation_1-error:0.222107\n",
      "[10:52:52] INFO: src/tree/updater_prune.cc:74: tree pruning end, 1 roots, 662 extra nodes, 2 pruned nodes, max_depth=10\n",
      "[7]\tvalidation_0-error:0.219862\tvalidation_1-error:0.221875\n",
      "[10:52:52] INFO: src/tree/updater_prune.cc:74: tree pruning end, 1 roots, 676 extra nodes, 0 pruned nodes, max_depth=10\n",
      "[8]\tvalidation_0-error:0.22013\tvalidation_1-error:0.222109\n",
      "[10:52:53] INFO: src/tree/updater_prune.cc:74: tree pruning end, 1 roots, 628 extra nodes, 2 pruned nodes, max_depth=10\n",
      "[9]\tvalidation_0-error:0.220137\tvalidation_1-error:0.222135\n",
      "[10:52:54] INFO: src/tree/updater_prune.cc:74: tree pruning end, 1 roots, 602 extra nodes, 4 pruned nodes, max_depth=10\n",
      "[10]\tvalidation_0-error:0.220137\tvalidation_1-error:0.222135\n",
      "[10:52:54] INFO: src/tree/updater_prune.cc:74: tree pruning end, 1 roots, 584 extra nodes, 0 pruned nodes, max_depth=10\n",
      "[11]\tvalidation_0-error:0.220137\tvalidation_1-error:0.222135\n",
      "[10:52:55] INFO: src/tree/updater_prune.cc:74: tree pruning end, 1 roots, 640 extra nodes, 2 pruned nodes, max_depth=10\n",
      "[12]\tvalidation_0-error:0.220137\tvalidation_1-error:0.222135\n",
      "[10:52:56] INFO: src/tree/updater_prune.cc:74: tree pruning end, 1 roots, 526 extra nodes, 0 pruned nodes, max_depth=10\n",
      "[13]\tvalidation_0-error:0.220063\tvalidation_1-error:0.222068\n",
      "[10:52:57] INFO: src/tree/updater_prune.cc:74: tree pruning end, 1 roots, 482 extra nodes, 0 pruned nodes, max_depth=10\n",
      "[14]\tvalidation_0-error:0.220063\tvalidation_1-error:0.222068\n",
      "[10:52:57] INFO: src/tree/updater_prune.cc:74: tree pruning end, 1 roots, 520 extra nodes, 0 pruned nodes, max_depth=10\n",
      "[15]\tvalidation_0-error:0.222894\tvalidation_1-error:0.225139\n",
      "[10:52:58] INFO: src/tree/updater_prune.cc:74: tree pruning end, 1 roots, 452 extra nodes, 2 pruned nodes, max_depth=10\n",
      "[16]\tvalidation_0-error:0.222881\tvalidation_1-error:0.225089\n",
      "[10:52:59] INFO: src/tree/updater_prune.cc:74: tree pruning end, 1 roots, 562 extra nodes, 0 pruned nodes, max_depth=10\n",
      "[17]\tvalidation_0-error:0.222881\tvalidation_1-error:0.225089\n",
      "[10:53:00] INFO: src/tree/updater_prune.cc:74: tree pruning end, 1 roots, 352 extra nodes, 0 pruned nodes, max_depth=10\n",
      "[18]\tvalidation_0-error:0.222881\tvalidation_1-error:0.225089\n",
      "[10:53:01] INFO: src/tree/updater_prune.cc:74: tree pruning end, 1 roots, 358 extra nodes, 0 pruned nodes, max_depth=10\n",
      "[19]\tvalidation_0-error:0.223424\tvalidation_1-error:0.225636\n",
      "[10:53:01] INFO: src/tree/updater_prune.cc:74: tree pruning end, 1 roots, 382 extra nodes, 4 pruned nodes, max_depth=10\n",
      "[20]\tvalidation_0-error:0.223424\tvalidation_1-error:0.225636\n",
      "[10:53:02] INFO: src/tree/updater_prune.cc:74: tree pruning end, 1 roots, 394 extra nodes, 0 pruned nodes, max_depth=10\n",
      "[21]\tvalidation_0-error:0.223424\tvalidation_1-error:0.225633\n",
      "[10:53:03] INFO: src/tree/updater_prune.cc:74: tree pruning end, 1 roots, 268 extra nodes, 0 pruned nodes, max_depth=10\n",
      "[22]\tvalidation_0-error:0.223424\tvalidation_1-error:0.225633\n",
      "[10:53:03] INFO: src/tree/updater_prune.cc:74: tree pruning end, 1 roots, 342 extra nodes, 0 pruned nodes, max_depth=10\n",
      "[23]\tvalidation_0-error:0.223424\tvalidation_1-error:0.225633\n",
      "[10:53:04] INFO: src/tree/updater_prune.cc:74: tree pruning end, 1 roots, 426 extra nodes, 0 pruned nodes, max_depth=10\n",
      "[24]\tvalidation_0-error:0.223424\tvalidation_1-error:0.225633\n",
      "[10:53:05] INFO: src/tree/updater_prune.cc:74: tree pruning end, 1 roots, 242 extra nodes, 0 pruned nodes, max_depth=10\n",
      "[25]\tvalidation_0-error:0.223424\tvalidation_1-error:0.225636\n",
      "[10:53:05] INFO: src/tree/updater_prune.cc:74: tree pruning end, 1 roots, 164 extra nodes, 0 pruned nodes, max_depth=10\n",
      "[26]\tvalidation_0-error:0.223421\tvalidation_1-error:0.225633\n",
      "[10:53:06] INFO: src/tree/updater_prune.cc:74: tree pruning end, 1 roots, 388 extra nodes, 0 pruned nodes, max_depth=10\n",
      "[27]\tvalidation_0-error:0.223422\tvalidation_1-error:0.225636\n",
      "[10:53:07] INFO: src/tree/updater_prune.cc:74: tree pruning end, 1 roots, 310 extra nodes, 4 pruned nodes, max_depth=10\n",
      "[28]\tvalidation_0-error:0.223421\tvalidation_1-error:0.225636\n",
      "[10:53:07] INFO: src/tree/updater_prune.cc:74: tree pruning end, 1 roots, 254 extra nodes, 4 pruned nodes, max_depth=10\n",
      "[29]\tvalidation_0-error:0.223421\tvalidation_1-error:0.225636\n",
      "[10:53:08] INFO: src/tree/updater_prune.cc:74: tree pruning end, 1 roots, 160 extra nodes, 0 pruned nodes, max_depth=10\n",
      "[30]\tvalidation_0-error:0.223421\tvalidation_1-error:0.225636\n",
      "[10:53:09] INFO: src/tree/updater_prune.cc:74: tree pruning end, 1 roots, 266 extra nodes, 0 pruned nodes, max_depth=10\n",
      "[31]\tvalidation_0-error:0.223421\tvalidation_1-error:0.225636\n",
      "[10:53:09] INFO: src/tree/updater_prune.cc:74: tree pruning end, 1 roots, 260 extra nodes, 2 pruned nodes, max_depth=10\n",
      "[32]\tvalidation_0-error:0.223421\tvalidation_1-error:0.225636\n",
      "[10:53:10] INFO: src/tree/updater_prune.cc:74: tree pruning end, 1 roots, 302 extra nodes, 2 pruned nodes, max_depth=10\n",
      "[33]\tvalidation_0-error:0.223421\tvalidation_1-error:0.225636\n",
      "[10:53:11] INFO: src/tree/updater_prune.cc:74: tree pruning end, 1 roots, 222 extra nodes, 0 pruned nodes, max_depth=10\n",
      "[34]\tvalidation_0-error:0.223421\tvalidation_1-error:0.225636\n",
      "[10:53:12] INFO: src/tree/updater_prune.cc:74: tree pruning end, 1 roots, 350 extra nodes, 0 pruned nodes, max_depth=10\n",
      "[35]\tvalidation_0-error:0.223422\tvalidation_1-error:0.225633\n",
      "[10:53:12] INFO: src/tree/updater_prune.cc:74: tree pruning end, 1 roots, 314 extra nodes, 2 pruned nodes, max_depth=10\n",
      "[36]\tvalidation_0-error:0.223421\tvalidation_1-error:0.225636\n",
      "[10:53:13] INFO: src/tree/updater_prune.cc:74: tree pruning end, 1 roots, 434 extra nodes, 0 pruned nodes, max_depth=10\n",
      "[37]\tvalidation_0-error:0.223421\tvalidation_1-error:0.225633\n",
      "[10:53:14] INFO: src/tree/updater_prune.cc:74: tree pruning end, 1 roots, 416 extra nodes, 2 pruned nodes, max_depth=10\n",
      "[38]\tvalidation_0-error:0.223421\tvalidation_1-error:0.225633\n",
      "[10:53:15] INFO: src/tree/updater_prune.cc:74: tree pruning end, 1 roots, 248 extra nodes, 2 pruned nodes, max_depth=10\n",
      "[39]\tvalidation_0-error:0.223421\tvalidation_1-error:0.225633\n",
      "[10:53:16] INFO: src/tree/updater_prune.cc:74: tree pruning end, 1 roots, 284 extra nodes, 0 pruned nodes, max_depth=10\n",
      "[40]\tvalidation_0-error:0.223421\tvalidation_1-error:0.225633\n",
      "[10:53:17] INFO: src/tree/updater_prune.cc:74: tree pruning end, 1 roots, 416 extra nodes, 0 pruned nodes, max_depth=10\n",
      "[41]\tvalidation_0-error:0.223421\tvalidation_1-error:0.225633\n",
      "[10:53:18] INFO: src/tree/updater_prune.cc:74: tree pruning end, 1 roots, 364 extra nodes, 2 pruned nodes, max_depth=10\n",
      "[42]\tvalidation_0-error:0.223688\tvalidation_1-error:0.225864\n",
      "[10:53:18] INFO: src/tree/updater_prune.cc:74: tree pruning end, 1 roots, 572 extra nodes, 2 pruned nodes, max_depth=10\n",
      "[43]\tvalidation_0-error:0.223688\tvalidation_1-error:0.225864\n",
      "[10:53:19] INFO: src/tree/updater_prune.cc:74: tree pruning end, 1 roots, 384 extra nodes, 2 pruned nodes, max_depth=10\n",
      "[44]\tvalidation_0-error:0.223684\tvalidation_1-error:0.225864\n"
     ]
    },
    {
     "name": "stdout",
     "output_type": "stream",
     "text": [
      "[10:53:20] INFO: src/tree/updater_prune.cc:74: tree pruning end, 1 roots, 288 extra nodes, 0 pruned nodes, max_depth=10\n",
      "[45]\tvalidation_0-error:0.223423\tvalidation_1-error:0.225633\n",
      "[10:53:21] INFO: src/tree/updater_prune.cc:74: tree pruning end, 1 roots, 276 extra nodes, 0 pruned nodes, max_depth=10\n",
      "[46]\tvalidation_0-error:0.223423\tvalidation_1-error:0.225633\n",
      "[10:53:21] INFO: src/tree/updater_prune.cc:74: tree pruning end, 1 roots, 486 extra nodes, 0 pruned nodes, max_depth=10\n",
      "[47]\tvalidation_0-error:0.223422\tvalidation_1-error:0.225633\n",
      "[10:53:22] INFO: src/tree/updater_prune.cc:74: tree pruning end, 1 roots, 236 extra nodes, 0 pruned nodes, max_depth=10\n",
      "[48]\tvalidation_0-error:0.223422\tvalidation_1-error:0.225633\n",
      "[10:53:23] INFO: src/tree/updater_prune.cc:74: tree pruning end, 1 roots, 278 extra nodes, 0 pruned nodes, max_depth=10\n",
      "[49]\tvalidation_0-error:0.223425\tvalidation_1-error:0.225633\n",
      "[10:53:24] INFO: src/tree/updater_prune.cc:74: tree pruning end, 1 roots, 348 extra nodes, 0 pruned nodes, max_depth=10\n",
      "[50]\tvalidation_0-error:0.223422\tvalidation_1-error:0.225633\n",
      "[10:53:24] INFO: src/tree/updater_prune.cc:74: tree pruning end, 1 roots, 314 extra nodes, 0 pruned nodes, max_depth=10\n",
      "[51]\tvalidation_0-error:0.223425\tvalidation_1-error:0.225633\n",
      "[10:53:25] INFO: src/tree/updater_prune.cc:74: tree pruning end, 1 roots, 138 extra nodes, 0 pruned nodes, max_depth=10\n",
      "[52]\tvalidation_0-error:0.223686\tvalidation_1-error:0.225864\n",
      "[10:53:26] INFO: src/tree/updater_prune.cc:74: tree pruning end, 1 roots, 358 extra nodes, 0 pruned nodes, max_depth=10\n",
      "[53]\tvalidation_0-error:0.223425\tvalidation_1-error:0.225633\n",
      "[10:53:27] INFO: src/tree/updater_prune.cc:74: tree pruning end, 1 roots, 48 extra nodes, 0 pruned nodes, max_depth=10\n",
      "[54]\tvalidation_0-error:0.223425\tvalidation_1-error:0.225633\n",
      "[10:53:28] INFO: src/tree/updater_prune.cc:74: tree pruning end, 1 roots, 216 extra nodes, 0 pruned nodes, max_depth=10\n",
      "[55]\tvalidation_0-error:0.223424\tvalidation_1-error:0.225633\n",
      "[10:53:28] INFO: src/tree/updater_prune.cc:74: tree pruning end, 1 roots, 42 extra nodes, 0 pruned nodes, max_depth=10\n",
      "[56]\tvalidation_0-error:0.223424\tvalidation_1-error:0.225633\n",
      "[10:53:29] INFO: src/tree/updater_prune.cc:74: tree pruning end, 1 roots, 242 extra nodes, 0 pruned nodes, max_depth=10\n",
      "[57]\tvalidation_0-error:0.223423\tvalidation_1-error:0.225633\n",
      "[10:53:30] INFO: src/tree/updater_prune.cc:74: tree pruning end, 1 roots, 306 extra nodes, 2 pruned nodes, max_depth=10\n",
      "[58]\tvalidation_0-error:0.223422\tvalidation_1-error:0.225633\n",
      "[10:53:31] INFO: src/tree/updater_prune.cc:74: tree pruning end, 1 roots, 252 extra nodes, 2 pruned nodes, max_depth=10\n",
      "[59]\tvalidation_0-error:0.223422\tvalidation_1-error:0.225633\n",
      "[10:53:32] INFO: src/tree/updater_prune.cc:74: tree pruning end, 1 roots, 220 extra nodes, 0 pruned nodes, max_depth=10\n",
      "[60]\tvalidation_0-error:0.223422\tvalidation_1-error:0.225633\n",
      "[10:53:33] INFO: src/tree/updater_prune.cc:74: tree pruning end, 1 roots, 80 extra nodes, 0 pruned nodes, max_depth=10\n",
      "[61]\tvalidation_0-error:0.223422\tvalidation_1-error:0.225633\n",
      "[10:53:33] INFO: src/tree/updater_prune.cc:74: tree pruning end, 1 roots, 224 extra nodes, 0 pruned nodes, max_depth=10\n",
      "[62]\tvalidation_0-error:0.223422\tvalidation_1-error:0.225633\n",
      "[10:53:34] INFO: src/tree/updater_prune.cc:74: tree pruning end, 1 roots, 242 extra nodes, 2 pruned nodes, max_depth=10\n",
      "[63]\tvalidation_0-error:0.223422\tvalidation_1-error:0.225633\n",
      "[10:53:35] INFO: src/tree/updater_prune.cc:74: tree pruning end, 1 roots, 250 extra nodes, 2 pruned nodes, max_depth=10\n",
      "[64]\tvalidation_0-error:0.223422\tvalidation_1-error:0.225633\n",
      "[10:53:36] INFO: src/tree/updater_prune.cc:74: tree pruning end, 1 roots, 362 extra nodes, 0 pruned nodes, max_depth=10\n",
      "[65]\tvalidation_0-error:0.223422\tvalidation_1-error:0.225633\n",
      "[10:53:37] INFO: src/tree/updater_prune.cc:74: tree pruning end, 1 roots, 30 extra nodes, 0 pruned nodes, max_depth=10\n",
      "[66]\tvalidation_0-error:0.223422\tvalidation_1-error:0.225633\n",
      "[10:53:37] INFO: src/tree/updater_prune.cc:74: tree pruning end, 1 roots, 338 extra nodes, 0 pruned nodes, max_depth=10\n",
      "[67]\tvalidation_0-error:0.223422\tvalidation_1-error:0.225633\n",
      "[10:53:38] INFO: src/tree/updater_prune.cc:74: tree pruning end, 1 roots, 284 extra nodes, 4 pruned nodes, max_depth=10\n",
      "[68]\tvalidation_0-error:0.223422\tvalidation_1-error:0.225633\n",
      "[10:53:39] INFO: src/tree/updater_prune.cc:74: tree pruning end, 1 roots, 96 extra nodes, 2 pruned nodes, max_depth=10\n",
      "[69]\tvalidation_0-error:0.223422\tvalidation_1-error:0.225633\n",
      "[10:53:39] INFO: src/tree/updater_prune.cc:74: tree pruning end, 1 roots, 500 extra nodes, 2 pruned nodes, max_depth=10\n",
      "[70]\tvalidation_0-error:0.223422\tvalidation_1-error:0.225633\n",
      "[10:53:40] INFO: src/tree/updater_prune.cc:74: tree pruning end, 1 roots, 80 extra nodes, 2 pruned nodes, max_depth=10\n",
      "[71]\tvalidation_0-error:0.223422\tvalidation_1-error:0.225633\n",
      "[10:53:41] INFO: src/tree/updater_prune.cc:74: tree pruning end, 1 roots, 148 extra nodes, 0 pruned nodes, max_depth=10\n",
      "[72]\tvalidation_0-error:0.223424\tvalidation_1-error:0.225633\n",
      "[10:53:42] INFO: src/tree/updater_prune.cc:74: tree pruning end, 1 roots, 242 extra nodes, 2 pruned nodes, max_depth=10\n",
      "[73]\tvalidation_0-error:0.223424\tvalidation_1-error:0.225633\n",
      "[10:53:43] INFO: src/tree/updater_prune.cc:74: tree pruning end, 1 roots, 82 extra nodes, 0 pruned nodes, max_depth=10\n",
      "[74]\tvalidation_0-error:0.223424\tvalidation_1-error:0.225633\n",
      "[10:53:43] INFO: src/tree/updater_prune.cc:74: tree pruning end, 1 roots, 198 extra nodes, 0 pruned nodes, max_depth=10\n",
      "[75]\tvalidation_0-error:0.223424\tvalidation_1-error:0.225633\n",
      "[10:53:44] INFO: src/tree/updater_prune.cc:74: tree pruning end, 1 roots, 490 extra nodes, 0 pruned nodes, max_depth=10\n",
      "[76]\tvalidation_0-error:0.223423\tvalidation_1-error:0.225633\n",
      "[10:53:45] INFO: src/tree/updater_prune.cc:74: tree pruning end, 1 roots, 272 extra nodes, 2 pruned nodes, max_depth=10\n",
      "[77]\tvalidation_0-error:0.223423\tvalidation_1-error:0.225633\n",
      "[10:53:46] INFO: src/tree/updater_prune.cc:74: tree pruning end, 1 roots, 260 extra nodes, 2 pruned nodes, max_depth=10\n",
      "[78]\tvalidation_0-error:0.223423\tvalidation_1-error:0.225633\n",
      "[10:53:47] INFO: src/tree/updater_prune.cc:74: tree pruning end, 1 roots, 176 extra nodes, 0 pruned nodes, max_depth=10\n",
      "[79]\tvalidation_0-error:0.223423\tvalidation_1-error:0.225633\n",
      "[10:53:47] INFO: src/tree/updater_prune.cc:74: tree pruning end, 1 roots, 208 extra nodes, 0 pruned nodes, max_depth=10\n",
      "[80]\tvalidation_0-error:0.223423\tvalidation_1-error:0.225633\n",
      "[10:53:48] INFO: src/tree/updater_prune.cc:74: tree pruning end, 1 roots, 314 extra nodes, 4 pruned nodes, max_depth=10\n",
      "[81]\tvalidation_0-error:0.223423\tvalidation_1-error:0.225633\n",
      "[10:53:49] INFO: src/tree/updater_prune.cc:74: tree pruning end, 1 roots, 122 extra nodes, 0 pruned nodes, max_depth=10\n",
      "[82]\tvalidation_0-error:0.223423\tvalidation_1-error:0.225633\n",
      "[10:53:49] INFO: src/tree/updater_prune.cc:74: tree pruning end, 1 roots, 210 extra nodes, 2 pruned nodes, max_depth=10\n",
      "[83]\tvalidation_0-error:0.223424\tvalidation_1-error:0.225636\n",
      "[10:53:50] INFO: src/tree/updater_prune.cc:74: tree pruning end, 1 roots, 190 extra nodes, 0 pruned nodes, max_depth=10\n",
      "[84]\tvalidation_0-error:0.223422\tvalidation_1-error:0.225636\n",
      "[10:53:50] INFO: src/tree/updater_prune.cc:74: tree pruning end, 1 roots, 324 extra nodes, 2 pruned nodes, max_depth=10\n",
      "[85]\tvalidation_0-error:0.223422\tvalidation_1-error:0.225636\n",
      "[10:53:51] INFO: src/tree/updater_prune.cc:74: tree pruning end, 1 roots, 140 extra nodes, 6 pruned nodes, max_depth=10\n",
      "[86]\tvalidation_0-error:0.223422\tvalidation_1-error:0.225636\n",
      "[10:53:52] INFO: src/tree/updater_prune.cc:74: tree pruning end, 1 roots, 150 extra nodes, 0 pruned nodes, max_depth=10\n",
      "[87]\tvalidation_0-error:0.223422\tvalidation_1-error:0.225636\n",
      "[10:53:52] INFO: src/tree/updater_prune.cc:74: tree pruning end, 1 roots, 66 extra nodes, 0 pruned nodes, max_depth=10\n",
      "[88]\tvalidation_0-error:0.223422\tvalidation_1-error:0.225636\n",
      "[10:53:53] INFO: src/tree/updater_prune.cc:74: tree pruning end, 1 roots, 228 extra nodes, 0 pruned nodes, max_depth=10\n",
      "[89]\tvalidation_0-error:0.223422\tvalidation_1-error:0.225636\n",
      "[10:53:54] INFO: src/tree/updater_prune.cc:74: tree pruning end, 1 roots, 278 extra nodes, 0 pruned nodes, max_depth=10\n",
      "[90]\tvalidation_0-error:0.223422\tvalidation_1-error:0.225636\n"
     ]
    },
    {
     "name": "stdout",
     "output_type": "stream",
     "text": [
      "[10:53:55] INFO: src/tree/updater_prune.cc:74: tree pruning end, 1 roots, 432 extra nodes, 2 pruned nodes, max_depth=10\n",
      "[91]\tvalidation_0-error:0.223422\tvalidation_1-error:0.225636\n",
      "[10:53:55] INFO: src/tree/updater_prune.cc:74: tree pruning end, 1 roots, 168 extra nodes, 0 pruned nodes, max_depth=10\n",
      "[92]\tvalidation_0-error:0.223422\tvalidation_1-error:0.225636\n",
      "[10:53:56] INFO: src/tree/updater_prune.cc:74: tree pruning end, 1 roots, 308 extra nodes, 0 pruned nodes, max_depth=10\n",
      "[93]\tvalidation_0-error:0.223422\tvalidation_1-error:0.225636\n",
      "[10:53:57] INFO: src/tree/updater_prune.cc:74: tree pruning end, 1 roots, 402 extra nodes, 2 pruned nodes, max_depth=10\n",
      "[94]\tvalidation_0-error:0.223422\tvalidation_1-error:0.225636\n",
      "[10:53:58] INFO: src/tree/updater_prune.cc:74: tree pruning end, 1 roots, 448 extra nodes, 2 pruned nodes, max_depth=10\n",
      "[95]\tvalidation_0-error:0.223422\tvalidation_1-error:0.225636\n",
      "[10:53:58] INFO: src/tree/updater_prune.cc:74: tree pruning end, 1 roots, 108 extra nodes, 0 pruned nodes, max_depth=10\n",
      "[96]\tvalidation_0-error:0.223422\tvalidation_1-error:0.225636\n",
      "[10:53:59] INFO: src/tree/updater_prune.cc:74: tree pruning end, 1 roots, 208 extra nodes, 0 pruned nodes, max_depth=10\n",
      "[97]\tvalidation_0-error:0.223422\tvalidation_1-error:0.225636\n",
      "[10:54:00] INFO: src/tree/updater_prune.cc:74: tree pruning end, 1 roots, 164 extra nodes, 0 pruned nodes, max_depth=10\n",
      "[98]\tvalidation_0-error:0.223422\tvalidation_1-error:0.225636\n",
      "[10:54:00] INFO: src/tree/updater_prune.cc:74: tree pruning end, 1 roots, 146 extra nodes, 0 pruned nodes, max_depth=10\n",
      "[99]\tvalidation_0-error:0.223422\tvalidation_1-error:0.225636\n",
      "[Pipeline] ..... (step 3 of 3) Processing xgbclassifier, total= 1.2min\n"
     ]
    },
    {
     "data": {
      "text/plain": [
       "Pipeline(memory=None,\n",
       "         steps=[('simpleimputer',\n",
       "                 SimpleImputer(add_indicator=False, copy=True, fill_value=None,\n",
       "                               missing_values=nan, strategy='mean',\n",
       "                               verbose=0)),\n",
       "                ('standardscaler',\n",
       "                 StandardScaler(copy=True, with_mean=True, with_std=True)),\n",
       "                ('xgbclassifier',\n",
       "                 XGBClassifier(base_score=0.5, booster='gbtree',\n",
       "                               colsample_bylevel=1, colsample_bynode=1,\n",
       "                               colsample_bytree=1, early_stopping_rounds=50,\n",
       "                               gamma=0.01, learning_rate=0.2, max_delta_step=0,\n",
       "                               max_depth=10, min_child_weight=1, missing=None,\n",
       "                               n_estimators=100, n_jobs=-1, nthread=None,\n",
       "                               objective='binary:logistic', random_state=0,\n",
       "                               reg_alpha=0, reg_lambda=1, scale_pos_weight=1,\n",
       "                               seed=None, silent=None, subsample=1,\n",
       "                               verbosity=3))],\n",
       "         verbose=True)"
      ]
     },
     "execution_count": 26,
     "metadata": {},
     "output_type": "execute_result"
    }
   ],
   "source": [
    "import numpy as np\n",
    "pipeline = make_pipeline(\n",
    "    SimpleImputer(),\n",
    "    StandardScaler(),\n",
    "    XGBClassifier(max_depth=10,\n",
    "                  learning_rate=0.2,\n",
    "                  booster='gbtree',\n",
    "                  gamma=0.01,\n",
    "                  n_jobs=-1,\n",
    "                  random_state=0,\n",
    "                  early_stopping_rounds=50,\n",
    "                  verbosity=3\n",
    "                 ),\n",
    "    verbose=True\n",
    ")\n",
    "pipeline.fit(X_train, y_train)"
   ]
  },
  {
   "cell_type": "code",
   "execution_count": 45,
   "metadata": {},
   "outputs": [
    {
     "data": {
      "text/plain": [
       "0.9948360278424863"
      ]
     },
     "execution_count": 45,
     "metadata": {},
     "output_type": "execute_result"
    }
   ],
   "source": [
    "pipeline.score(X_val, y_val)"
   ]
  },
  {
   "cell_type": "code",
   "execution_count": 46,
   "metadata": {},
   "outputs": [
    {
     "data": {
      "text/plain": [
       "0.9947878960341141"
      ]
     },
     "execution_count": 46,
     "metadata": {},
     "output_type": "execute_result"
    }
   ],
   "source": [
    "pipeline.score(X_test, y_test)"
   ]
  },
  {
   "cell_type": "code",
   "execution_count": 26,
   "metadata": {},
   "outputs": [],
   "source": [
    "import xgboost"
   ]
  },
  {
   "cell_type": "code",
   "execution_count": 28,
   "metadata": {},
   "outputs": [
    {
     "data": {
      "text/plain": [
       "'0.90'"
      ]
     },
     "execution_count": 28,
     "metadata": {},
     "output_type": "execute_result"
    }
   ],
   "source": [
    "xgboost.__version__"
   ]
  },
  {
   "cell_type": "code",
   "execution_count": 30,
   "metadata": {},
   "outputs": [
    {
     "data": {
      "text/plain": [
       "['../assets/whowon.pkl']"
      ]
     },
     "execution_count": 30,
     "metadata": {},
     "output_type": "execute_result"
    }
   ],
   "source": [
    "import joblib\n",
    "joblib.dump(pipeline, '../assets/whowon.pkl')"
   ]
  },
  {
   "cell_type": "code",
   "execution_count": 31,
   "metadata": {},
   "outputs": [
    {
     "data": {
      "text/plain": [
       "0"
      ]
     },
     "execution_count": 31,
     "metadata": {},
     "output_type": "execute_result"
    }
   ],
   "source": [
    "df.duration.min()"
   ]
  },
  {
   "cell_type": "code",
   "execution_count": 32,
   "metadata": {},
   "outputs": [
    {
     "data": {
      "text/plain": [
       "18232"
      ]
     },
     "execution_count": 32,
     "metadata": {},
     "output_type": "execute_result"
    }
   ],
   "source": [
    "df.duration.max()"
   ]
  },
  {
   "cell_type": "code",
   "execution_count": 38,
   "metadata": {},
   "outputs": [
    {
     "data": {
      "text/plain": [
       "2535.112245933471"
      ]
     },
     "execution_count": 38,
     "metadata": {},
     "output_type": "execute_result"
    }
   ],
   "source": [
    "df.duration.mean()"
   ]
  },
  {
   "cell_type": "code",
   "execution_count": 36,
   "metadata": {},
   "outputs": [
    {
     "data": {
      "text/plain": [
       "75.0"
      ]
     },
     "execution_count": 36,
     "metadata": {},
     "output_type": "execute_result"
    }
   ],
   "source": [
    "4500/60"
   ]
  },
  {
   "cell_type": "code",
   "execution_count": 41,
   "metadata": {},
   "outputs": [
    {
     "name": "stdout",
     "output_type": "stream",
     "text": [
      "duration\n",
      "0 562.5081775897913 2535.112245933471 4507.716314277151 18232\n",
      "tower_status_radiant\n",
      "0 -1811.5530718552864 1013.2099038344849 3837.9728795242563 2047\n",
      "tower_status_dire\n",
      "0 -1836.7555235441628 958.0768685947197 3752.909260733602 2047\n",
      "barracks_status_radiant\n",
      "0 -51.27789014684418 36.29389644003465 123.86568302691347 63\n",
      "barracks_status_dire\n",
      "0 -48.918880978059384 36.636536827877116 122.19195463381362 63\n",
      "first_blood_time\n",
      "0 -169.13021613340408 108.92677893648808 386.9837740063802 2863\n"
     ]
    }
   ],
   "source": [
    "for feature in features:\n",
    "    print(feature)\n",
    "    print(df[feature].min(), df[feature].mean() - df[feature].std() * 3, df[feature].mean(), df[feature].mean() + df[feature].std() * 3, df[feature].max())"
   ]
  },
  {
   "cell_type": "code",
   "execution_count": 46,
   "metadata": {},
   "outputs": [
    {
     "name": "stdout",
     "output_type": "stream",
     "text": [
      "['duration', 'tower_status_radiant', 'tower_status_dire', 'barracks_status_radiant', 'barracks_status_dire', 'first_blood_time']\n"
     ]
    }
   ],
   "source": [
    "print(features)"
   ]
  },
  {
   "cell_type": "code",
   "execution_count": 44,
   "metadata": {},
   "outputs": [],
   "source": [
    "import eli5\n",
    "from eli5.sklearn import PermutationImportance\n",
    "import joblib\n",
    "from xgboost import XGBClassifier\n",
    "pipeline = joblib.load('../assets/whowon.pkl')\n",
    "X_test_transformed = pipeline['standardscaler'].transform(pipeline['simpleimputer'].transform(X_test))\n",
    "model = pipeline['xgbclassifier']"
   ]
  },
  {
   "cell_type": "code",
   "execution_count": 36,
   "metadata": {},
   "outputs": [
    {
     "name": "stdout",
     "output_type": "stream",
     "text": [
      "[10:58:20] ======== Monitor:  ========\n",
      "[10:58:20] ======== Monitor:  ========\n"
     ]
    },
    {
     "data": {
      "text/plain": [
       "PermutationImportance(cv='prefit',\n",
       "                      estimator=XGBClassifier(base_score=0.5, booster='gbtree',\n",
       "                                              colsample_bylevel=1,\n",
       "                                              colsample_bynode=1,\n",
       "                                              colsample_bytree=1,\n",
       "                                              early_stopping_rounds=50,\n",
       "                                              gamma=0.01, learning_rate=0.2,\n",
       "                                              max_delta_step=0, max_depth=10,\n",
       "                                              min_child_weight=1, missing=nan,\n",
       "                                              n_estimators=100, n_jobs=-1,\n",
       "                                              nthread=None,\n",
       "                                              objective='binary:logistic',\n",
       "                                              random_state=0, reg_alpha=0,\n",
       "                                              reg_lambda=1, scale_pos_weight=1,\n",
       "                                              seed=None, silent=None,\n",
       "                                              subsample=1, verbosity=3),\n",
       "                      n_iter=5, random_state=0, refit=True, scoring='accuracy')"
      ]
     },
     "execution_count": 36,
     "metadata": {},
     "output_type": "execute_result"
    }
   ],
   "source": [
    "permuter = PermutationImportance(\n",
    "    model,\n",
    "    scoring='accuracy',\n",
    "    n_iter=5,\n",
    "    random_state=0\n",
    ")\n",
    "\n",
    "permuter.fit(X_test_transformed, y_test)"
   ]
  },
  {
   "cell_type": "code",
   "execution_count": 37,
   "metadata": {},
   "outputs": [
    {
     "data": {
      "text/plain": [
       "first_blood_time           0.001927\n",
       "duration                   0.003187\n",
       "barracks_status_radiant    0.005202\n",
       "barracks_status_dire       0.007065\n",
       "tower_status_dire          0.048610\n",
       "tower_status_radiant       0.082302\n",
       "dtype: float64"
      ]
     },
     "execution_count": 37,
     "metadata": {},
     "output_type": "execute_result"
    }
   ],
   "source": [
    "feature_names = X_test.columns.tolist()\n",
    "pd.Series(permuter.feature_importances_, feature_names).sort_values()"
   ]
  },
  {
   "cell_type": "code",
   "execution_count": 38,
   "metadata": {},
   "outputs": [
    {
     "data": {
      "text/html": [
       "\n",
       "    <style>\n",
       "    table.eli5-weights tr:hover {\n",
       "        filter: brightness(85%);\n",
       "    }\n",
       "</style>\n",
       "\n",
       "\n",
       "\n",
       "    \n",
       "\n",
       "    \n",
       "\n",
       "    \n",
       "\n",
       "    \n",
       "\n",
       "    \n",
       "\n",
       "    \n",
       "\n",
       "\n",
       "    \n",
       "\n",
       "    \n",
       "\n",
       "    \n",
       "\n",
       "    \n",
       "\n",
       "    \n",
       "\n",
       "    \n",
       "\n",
       "\n",
       "    \n",
       "\n",
       "    \n",
       "\n",
       "    \n",
       "\n",
       "    \n",
       "\n",
       "    \n",
       "        <table class=\"eli5-weights eli5-feature-importances\" style=\"border-collapse: collapse; border: none; margin-top: 0em; table-layout: auto;\">\n",
       "    <thead>\n",
       "    <tr style=\"border: none;\">\n",
       "        <th style=\"padding: 0 1em 0 0.5em; text-align: right; border: none;\">Weight</th>\n",
       "        <th style=\"padding: 0 0.5em 0 0.5em; text-align: left; border: none;\">Feature</th>\n",
       "    </tr>\n",
       "    </thead>\n",
       "    <tbody>\n",
       "    \n",
       "        <tr style=\"background-color: hsl(120, 100.00%, 80.00%); border: none;\">\n",
       "            <td style=\"padding: 0 1em 0 0.5em; text-align: right; border: none;\">\n",
       "                0.0823\n",
       "                \n",
       "                    &plusmn; 0.0004\n",
       "                \n",
       "            </td>\n",
       "            <td style=\"padding: 0 0.5em 0 0.5em; text-align: left; border: none;\">\n",
       "                tower_status_radiant\n",
       "            </td>\n",
       "        </tr>\n",
       "    \n",
       "        <tr style=\"background-color: hsl(120, 100.00%, 86.17%); border: none;\">\n",
       "            <td style=\"padding: 0 1em 0 0.5em; text-align: right; border: none;\">\n",
       "                0.0486\n",
       "                \n",
       "                    &plusmn; 0.0005\n",
       "                \n",
       "            </td>\n",
       "            <td style=\"padding: 0 0.5em 0 0.5em; text-align: left; border: none;\">\n",
       "                tower_status_dire\n",
       "            </td>\n",
       "        </tr>\n",
       "    \n",
       "        <tr style=\"background-color: hsl(120, 100.00%, 96.41%); border: none;\">\n",
       "            <td style=\"padding: 0 1em 0 0.5em; text-align: right; border: none;\">\n",
       "                0.0071\n",
       "                \n",
       "                    &plusmn; 0.0001\n",
       "                \n",
       "            </td>\n",
       "            <td style=\"padding: 0 0.5em 0 0.5em; text-align: left; border: none;\">\n",
       "                barracks_status_dire\n",
       "            </td>\n",
       "        </tr>\n",
       "    \n",
       "        <tr style=\"background-color: hsl(120, 100.00%, 97.11%); border: none;\">\n",
       "            <td style=\"padding: 0 1em 0 0.5em; text-align: right; border: none;\">\n",
       "                0.0052\n",
       "                \n",
       "                    &plusmn; 0.0002\n",
       "                \n",
       "            </td>\n",
       "            <td style=\"padding: 0 0.5em 0 0.5em; text-align: left; border: none;\">\n",
       "                barracks_status_radiant\n",
       "            </td>\n",
       "        </tr>\n",
       "    \n",
       "        <tr style=\"background-color: hsl(120, 100.00%, 97.95%); border: none;\">\n",
       "            <td style=\"padding: 0 1em 0 0.5em; text-align: right; border: none;\">\n",
       "                0.0032\n",
       "                \n",
       "                    &plusmn; 0.0002\n",
       "                \n",
       "            </td>\n",
       "            <td style=\"padding: 0 0.5em 0 0.5em; text-align: left; border: none;\">\n",
       "                duration\n",
       "            </td>\n",
       "        </tr>\n",
       "    \n",
       "        <tr style=\"background-color: hsl(120, 100.00%, 98.56%); border: none;\">\n",
       "            <td style=\"padding: 0 1em 0 0.5em; text-align: right; border: none;\">\n",
       "                0.0019\n",
       "                \n",
       "                    &plusmn; 0.0001\n",
       "                \n",
       "            </td>\n",
       "            <td style=\"padding: 0 0.5em 0 0.5em; text-align: left; border: none;\">\n",
       "                first_blood_time\n",
       "            </td>\n",
       "        </tr>\n",
       "    \n",
       "    \n",
       "    </tbody>\n",
       "</table>\n",
       "    \n",
       "\n",
       "    \n",
       "\n",
       "\n",
       "    \n",
       "\n",
       "    \n",
       "\n",
       "    \n",
       "\n",
       "    \n",
       "\n",
       "    \n",
       "\n",
       "    \n",
       "\n",
       "\n",
       "\n"
      ],
      "text/plain": [
       "<IPython.core.display.HTML object>"
      ]
     },
     "execution_count": 38,
     "metadata": {},
     "output_type": "execute_result"
    }
   ],
   "source": [
    "eli5.show_weights(\n",
    "    permuter,\n",
    "    top=None,\n",
    "    feature_names=feature_names\n",
    ")"
   ]
  },
  {
   "cell_type": "code",
   "execution_count": 39,
   "metadata": {},
   "outputs": [
    {
     "data": {
      "text/plain": [
       "['../assets/permuter.pkl']"
      ]
     },
     "execution_count": 39,
     "metadata": {},
     "output_type": "execute_result"
    }
   ],
   "source": [
    "joblib.dump(permuter, '../assets/permuter.pkl')"
   ]
  },
  {
   "cell_type": "code",
   "execution_count": 41,
   "metadata": {},
   "outputs": [
    {
     "name": "stdout",
     "output_type": "stream",
     "text": [
      "['duration', 'tower_status_radiant', 'tower_status_dire', 'barracks_status_radiant', 'barracks_status_dire', 'first_blood_time']\n"
     ]
    }
   ],
   "source": [
    "print(feature_names)"
   ]
  },
  {
   "cell_type": "code",
   "execution_count": 43,
   "metadata": {},
   "outputs": [
    {
     "data": {
      "text/html": [
       "\n",
       "    <style>\n",
       "    table.eli5-weights tr:hover {\n",
       "        filter: brightness(85%);\n",
       "    }\n",
       "</style>\n",
       "\n",
       "\n",
       "\n",
       "    \n",
       "\n",
       "    \n",
       "\n",
       "    \n",
       "\n",
       "    \n",
       "\n",
       "    \n",
       "\n",
       "    \n",
       "\n",
       "\n",
       "    \n",
       "\n",
       "    \n",
       "\n",
       "    \n",
       "\n",
       "    \n",
       "\n",
       "    \n",
       "\n",
       "    \n",
       "\n",
       "\n",
       "    \n",
       "\n",
       "    \n",
       "\n",
       "    \n",
       "\n",
       "    \n",
       "\n",
       "    \n",
       "        <table class=\"eli5-weights eli5-feature-importances\" style=\"border-collapse: collapse; border: none; margin-top: 0em; table-layout: auto;\">\n",
       "    <thead>\n",
       "    <tr style=\"border: none;\">\n",
       "        <th style=\"padding: 0 1em 0 0.5em; text-align: right; border: none;\">Weight</th>\n",
       "        <th style=\"padding: 0 0.5em 0 0.5em; text-align: left; border: none;\">Feature</th>\n",
       "    </tr>\n",
       "    </thead>\n",
       "    <tbody>\n",
       "    \n",
       "        <tr style=\"background-color: hsl(120, 100.00%, 80.00%); border: none;\">\n",
       "            <td style=\"padding: 0 1em 0 0.5em; text-align: right; border: none;\">\n",
       "                0.0823\n",
       "                \n",
       "                    &plusmn; 0.0004\n",
       "                \n",
       "            </td>\n",
       "            <td style=\"padding: 0 0.5em 0 0.5em; text-align: left; border: none;\">\n",
       "                tower_status_radiant\n",
       "            </td>\n",
       "        </tr>\n",
       "    \n",
       "        <tr style=\"background-color: hsl(120, 100.00%, 86.17%); border: none;\">\n",
       "            <td style=\"padding: 0 1em 0 0.5em; text-align: right; border: none;\">\n",
       "                0.0486\n",
       "                \n",
       "                    &plusmn; 0.0005\n",
       "                \n",
       "            </td>\n",
       "            <td style=\"padding: 0 0.5em 0 0.5em; text-align: left; border: none;\">\n",
       "                tower_status_dire\n",
       "            </td>\n",
       "        </tr>\n",
       "    \n",
       "        <tr style=\"background-color: hsl(120, 100.00%, 96.41%); border: none;\">\n",
       "            <td style=\"padding: 0 1em 0 0.5em; text-align: right; border: none;\">\n",
       "                0.0071\n",
       "                \n",
       "                    &plusmn; 0.0001\n",
       "                \n",
       "            </td>\n",
       "            <td style=\"padding: 0 0.5em 0 0.5em; text-align: left; border: none;\">\n",
       "                barracks_status_dire\n",
       "            </td>\n",
       "        </tr>\n",
       "    \n",
       "        <tr style=\"background-color: hsl(120, 100.00%, 97.11%); border: none;\">\n",
       "            <td style=\"padding: 0 1em 0 0.5em; text-align: right; border: none;\">\n",
       "                0.0052\n",
       "                \n",
       "                    &plusmn; 0.0002\n",
       "                \n",
       "            </td>\n",
       "            <td style=\"padding: 0 0.5em 0 0.5em; text-align: left; border: none;\">\n",
       "                barracks_status_radiant\n",
       "            </td>\n",
       "        </tr>\n",
       "    \n",
       "        <tr style=\"background-color: hsl(120, 100.00%, 97.95%); border: none;\">\n",
       "            <td style=\"padding: 0 1em 0 0.5em; text-align: right; border: none;\">\n",
       "                0.0032\n",
       "                \n",
       "                    &plusmn; 0.0002\n",
       "                \n",
       "            </td>\n",
       "            <td style=\"padding: 0 0.5em 0 0.5em; text-align: left; border: none;\">\n",
       "                duration\n",
       "            </td>\n",
       "        </tr>\n",
       "    \n",
       "        <tr style=\"background-color: hsl(120, 100.00%, 98.56%); border: none;\">\n",
       "            <td style=\"padding: 0 1em 0 0.5em; text-align: right; border: none;\">\n",
       "                0.0019\n",
       "                \n",
       "                    &plusmn; 0.0001\n",
       "                \n",
       "            </td>\n",
       "            <td style=\"padding: 0 0.5em 0 0.5em; text-align: left; border: none;\">\n",
       "                first_blood_time\n",
       "            </td>\n",
       "        </tr>\n",
       "    \n",
       "    \n",
       "    </tbody>\n",
       "</table>\n",
       "    \n",
       "\n",
       "    \n",
       "\n",
       "\n",
       "    \n",
       "\n",
       "    \n",
       "\n",
       "    \n",
       "\n",
       "    \n",
       "\n",
       "    \n",
       "\n",
       "    \n",
       "\n",
       "\n",
       "\n"
      ],
      "text/plain": [
       "<IPython.core.display.HTML object>"
      ]
     },
     "execution_count": 43,
     "metadata": {},
     "output_type": "execute_result"
    }
   ],
   "source": [
    "eli5.show_weights(\n",
    "    permuter,\n",
    "    top=None,\n",
    "    feature_names=feature_names\n",
    ")"
   ]
  },
  {
   "cell_type": "code",
   "execution_count": 47,
   "metadata": {},
   "outputs": [
    {
     "data": {
      "text/plain": [
       "'0.10.1'"
      ]
     },
     "execution_count": 47,
     "metadata": {},
     "output_type": "execute_result"
    }
   ],
   "source": [
    "eli5.__version__"
   ]
  },
  {
   "cell_type": "code",
   "execution_count": null,
   "metadata": {},
   "outputs": [],
   "source": []
  }
 ],
 "metadata": {
  "kernelspec": {
   "display_name": "Python 3",
   "language": "python",
   "name": "python3"
  },
  "language_info": {
   "codemirror_mode": {
    "name": "ipython",
    "version": 3
   },
   "file_extension": ".py",
   "mimetype": "text/x-python",
   "name": "python",
   "nbconvert_exporter": "python",
   "pygments_lexer": "ipython3",
   "version": "3.7.4"
  }
 },
 "nbformat": 4,
 "nbformat_minor": 2
}
